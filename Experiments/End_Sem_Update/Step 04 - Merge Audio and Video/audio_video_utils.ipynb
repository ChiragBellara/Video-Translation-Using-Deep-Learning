{
  "nbformat": 4,
  "nbformat_minor": 0,
  "metadata": {
    "colab": {
      "provenance": []
    },
    "kernelspec": {
      "name": "python3",
      "display_name": "Python 3"
    },
    "language_info": {
      "name": "python"
    }
  },
  "cells": [
    {
      "cell_type": "markdown",
      "source": [
        "Method to replace the audio of the given video to the new audio provided\n",
        "<br>\n",
        "<br>\n",
        "**Params:**\n",
        "<br>\n",
        "**audio_path (String)** - File path for the translated audio file.\n",
        "<br>\n",
        "**video_path (String)** - File path for the target video.\n",
        "<br>\n",
        "**output_video_path (String)** - File path to save the output video with the translated audio\n",
        "<br>\n",
        "<br>\n",
        "**Sample Usage:**\n",
        "<br>\n",
        "\n",
        "\n",
        "```\n",
        "replace_audio_to_video(audio_path=\"/content/5min-audio.wav\",\n",
        "                     video_path=\"/content/sample-5min-video.mkv\",\n",
        "                     output_video_path=\"/content/video-5min.mkv\")\n",
        "```\n",
        "\n"
      ],
      "metadata": {
        "id": "k3eeHRMijDo7"
      }
    },
    {
      "cell_type": "code",
      "source": [
        "import subprocess"
      ],
      "metadata": {
        "id": "qyO7_O3TnE8Z"
      },
      "execution_count": 4,
      "outputs": []
    },
    {
      "cell_type": "code",
      "source": [
        "def replace_audio_to_video(audio_path, video_path, output_video_path):\n",
        "  subprocess.run(f\"ffmpeg -i {video_path} -i {audio_path} -c:v copy -map 0:v:0 -map 1:a:0 {output_video_path}\", shell=True)"
      ],
      "metadata": {
        "id": "8it-YuZyJc3_"
      },
      "execution_count": 5,
      "outputs": []
    },
    {
      "cell_type": "markdown",
      "source": [
        "Method to concatenate multiple audio files into a single audio file\n",
        "<br>\n",
        "<br>\n",
        "**Params:**\n",
        "<br>\n",
        "**audio_files (List)** - Contains a string list of path of the audio files to be combined.\n",
        "<br>\n",
        "**output_audio** - File path for the combined audio to be saved.\n",
        "<br>\n",
        "<br>\n",
        "**Sample Usage:**\n",
        "<br>\n",
        "\n",
        "\n",
        "```\n",
        "combine_audio_files(audio_files=[\"/content/audio1.wav\", \"/content/audio2.wav\"],\n",
        "                     output_audio=\"/content/combined_audio.wav\")\n",
        "```\n"
      ],
      "metadata": {
        "id": "8vK8bXIMlYao"
      }
    },
    {
      "cell_type": "code",
      "source": [
        "def combine_audio_files(audio_files, output_audio):\n",
        "    ffmpeg_command = [\"ffmpeg\"]\n",
        "    for audio_file in audio_files:\n",
        "        ffmpeg_command.extend([\"-i\", audio_file])\n",
        "    ffmpeg_command.extend([\"-filter_complex\", f\"concat=n={len(audio_files)}:v=0:a=1[outa]\", \"-map\", \"[outa]\", output_audio])\n",
        "    subprocess.run(ffmpeg_command)"
      ],
      "metadata": {
        "id": "uwF6CmgNlYtW"
      },
      "execution_count": 6,
      "outputs": []
    }
  ]
}