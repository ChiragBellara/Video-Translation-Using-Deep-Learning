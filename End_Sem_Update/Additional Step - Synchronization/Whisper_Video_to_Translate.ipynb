{
  "nbformat": 4,
  "nbformat_minor": 0,
  "metadata": {
    "colab": {
      "provenance": [],
      "gpuType": "T4"
    },
    "kernelspec": {
      "name": "python3",
      "display_name": "Python 3"
    },
    "language_info": {
      "name": "python"
    },
    "accelerator": "GPU"
  },
  "cells": [
    {
      "cell_type": "code",
      "execution_count": null,
      "metadata": {
        "colab": {
          "base_uri": "https://localhost:8080/"
        },
        "id": "qGbjHlB47iuo",
        "outputId": "6b2a757a-103a-48ca-b301-b76c1fe1e20d"
      },
      "outputs": [
        {
          "output_type": "stream",
          "name": "stdout",
          "text": [
            "  Installing build dependencies ... \u001b[?25l\u001b[?25hdone\n",
            "  Getting requirements to build wheel ... \u001b[?25l\u001b[?25hdone\n",
            "  Preparing metadata (pyproject.toml) ... \u001b[?25l\u001b[?25hdone\n",
            "\u001b[2K     \u001b[90m━━━━━━━━━━━━━━━━━━━━━━━━━━━━━━━━━━━━━━━━\u001b[0m \u001b[32m2.0/2.0 MB\u001b[0m \u001b[31m13.1 MB/s\u001b[0m eta \u001b[36m0:00:00\u001b[0m\n",
            "\u001b[?25h  Building wheel for openai-whisper (pyproject.toml) ... \u001b[?25l\u001b[?25hdone\n",
            "\u001b[31mERROR: pip's dependency resolver does not currently take into account all the packages that are installed. This behaviour is the source of the following dependency conflicts.\n",
            "llmx 0.0.15a0 requires cohere, which is not installed.\n",
            "llmx 0.0.15a0 requires openai, which is not installed.\u001b[0m\u001b[31m\n",
            "\u001b[0m"
          ]
        }
      ],
      "source": [
        "!pip install git+https://github.com/openai/whisper.git -qq"
      ]
    },
    {
      "cell_type": "code",
      "source": [
        "# Update package information and install FFmpeg using apt.\n",
        "!sudo apt update && sudo apt install ffmpeg"
      ],
      "metadata": {
        "colab": {
          "base_uri": "https://localhost:8080/"
        },
        "id": "52f0H6rq8mbI",
        "outputId": "7933559e-b30b-44ec-ad10-cb2120504a2f"
      },
      "execution_count": null,
      "outputs": [
        {
          "output_type": "stream",
          "name": "stdout",
          "text": [
            "\u001b[33m\r0% [Working]\u001b[0m\r            \rHit:1 http://archive.ubuntu.com/ubuntu jammy InRelease\n",
            "\u001b[33m\r0% [Waiting for headers] [Connected to cloud.r-project.org (18.239.18.73)] [Con\u001b[0m\r                                                                               \rGet:2 http://archive.ubuntu.com/ubuntu jammy-updates InRelease [119 kB]\n",
            "\r                                                                               \rGet:3 http://security.ubuntu.com/ubuntu jammy-security InRelease [110 kB]\n",
            "\u001b[33m\r0% [2 InRelease 75.0 kB/119 kB 63%] [3 InRelease 110 kB/110 kB 100%] [Connected\u001b[0m\u001b[33m\r0% [2 InRelease 86.6 kB/119 kB 73%] [Connected to cloud.r-project.org (18.239.1\u001b[0m\u001b[33m\r0% [Waiting for headers] [Connected to cloud.r-project.org (18.239.18.73)] [Con\u001b[0m\r                                                                               \rGet:4 http://archive.ubuntu.com/ubuntu jammy-backports InRelease [109 kB]\n",
            "\u001b[33m\r0% [4 InRelease 109 kB/109 kB 100%] [Connected to cloud.r-project.org (18.239.1\u001b[0m\u001b[33m\r0% [Connected to cloud.r-project.org (18.239.18.73)] [Connected to ppa.launchpa\u001b[0m\r                                                                               \rGet:5 https://cloud.r-project.org/bin/linux/ubuntu jammy-cran40/ InRelease [3,626 B]\n",
            "Hit:6 https://developer.download.nvidia.com/compute/cuda/repos/ubuntu2204/x86_64  InRelease\n",
            "Get:7 https://ppa.launchpadcontent.net/c2d4u.team/c2d4u4.0+/ubuntu jammy InRelease [18.1 kB]\n",
            "Hit:8 https://ppa.launchpadcontent.net/deadsnakes/ppa/ubuntu jammy InRelease\n",
            "Hit:9 https://ppa.launchpadcontent.net/graphics-drivers/ppa/ubuntu jammy InRelease\n",
            "Hit:10 https://ppa.launchpadcontent.net/ubuntugis/ppa/ubuntu jammy InRelease\n",
            "Get:11 http://archive.ubuntu.com/ubuntu jammy-updates/universe amd64 Packages [1,294 kB]\n",
            "Get:12 http://archive.ubuntu.com/ubuntu jammy-updates/main amd64 Packages [1,535 kB]\n",
            "Get:13 http://archive.ubuntu.com/ubuntu jammy-updates/restricted amd64 Packages [1,520 kB]\n",
            "Get:14 https://ppa.launchpadcontent.net/c2d4u.team/c2d4u4.0+/ubuntu jammy/main Sources [2,245 kB]\n",
            "Get:15 https://ppa.launchpadcontent.net/c2d4u.team/c2d4u4.0+/ubuntu jammy/main amd64 Packages [1,153 kB]\n",
            "Fetched 8,105 kB in 2s (4,255 kB/s)\n",
            "Reading package lists... Done\n",
            "Building dependency tree... Done\n",
            "Reading state information... Done\n",
            "16 packages can be upgraded. Run 'apt list --upgradable' to see them.\n",
            "Reading package lists... Done\n",
            "Building dependency tree... Done\n",
            "Reading state information... Done\n",
            "ffmpeg is already the newest version (7:4.4.2-0ubuntu0.22.04.1).\n",
            "0 upgraded, 0 newly installed, 0 to remove and 16 not upgraded.\n"
          ]
        }
      ]
    },
    {
      "cell_type": "code",
      "source": [
        "!pip install --upgrade yt_dlp -qq"
      ],
      "metadata": {
        "colab": {
          "base_uri": "https://localhost:8080/"
        },
        "id": "ZhWRozV192Ri",
        "outputId": "1f7ca4a6-f62c-439c-e957-1a2ca3c3e4ed"
      },
      "execution_count": null,
      "outputs": [
        {
          "output_type": "stream",
          "name": "stdout",
          "text": [
            "\u001b[2K     \u001b[90m━━━━━━━━━━━━━━━━━━━━━━━━━━━━━━━━━━━━━━━━\u001b[0m \u001b[32m3.1/3.1 MB\u001b[0m \u001b[31m17.6 MB/s\u001b[0m eta \u001b[36m0:00:00\u001b[0m\n",
            "\u001b[2K     \u001b[90m━━━━━━━━━━━━━━━━━━━━━━━━━━━━━━━━━━━━━━━━\u001b[0m \u001b[32m194.4/194.4 kB\u001b[0m \u001b[31m19.1 MB/s\u001b[0m eta \u001b[36m0:00:00\u001b[0m\n",
            "\u001b[2K     \u001b[90m━━━━━━━━━━━━━━━━━━━━━━━━━━━━━━━━━━━━━━━━\u001b[0m \u001b[32m2.1/2.1 MB\u001b[0m \u001b[31m43.8 MB/s\u001b[0m eta \u001b[36m0:00:00\u001b[0m\n",
            "\u001b[2K     \u001b[90m━━━━━━━━━━━━━━━━━━━━━━━━━━━━━━━━━━━━━━━━\u001b[0m \u001b[32m130.2/130.2 kB\u001b[0m \u001b[31m17.5 MB/s\u001b[0m eta \u001b[36m0:00:00\u001b[0m\n",
            "\u001b[2K     \u001b[90m━━━━━━━━━━━━━━━━━━━━━━━━━━━━━━━━━━━━━━━━\u001b[0m \u001b[32m3.0/3.0 MB\u001b[0m \u001b[31m63.2 MB/s\u001b[0m eta \u001b[36m0:00:00\u001b[0m\n",
            "\u001b[?25h"
          ]
        }
      ]
    },
    {
      "cell_type": "code",
      "source": [
        "OUTPUT_VIDEO = \"/content/DownloadedVideos/downloadedVideo.mkv\"\n",
        "OUTPUT_AUDIO = \"/content/OutcomeAudios/extractedAudio.wav\"\n",
        "AUDIO_FOLDER = \"/content/OutcomeAudios/\"\n",
        "VIDEO_FOLDER = \"/content/DownloadedVideos/\"\n",
        "SAMPLING_RATE = 24000"
      ],
      "metadata": {
        "id": "tBLaLjgL_bnp"
      },
      "execution_count": null,
      "outputs": []
    },
    {
      "cell_type": "code",
      "source": [
        "import os\n",
        "\n",
        "def checkAndMakeDir(folder):\n",
        "  if os.path.exists(folder)==False:\n",
        "    os.makedirs(folder)\n",
        "\n",
        "checkAndMakeDir(AUDIO_FOLDER)\n",
        "checkAndMakeDir(VIDEO_FOLDER)"
      ],
      "metadata": {
        "id": "fIgG5BmrA2r1"
      },
      "execution_count": null,
      "outputs": []
    },
    {
      "cell_type": "code",
      "source": [
        "from yt_dlp import YoutubeDL\n",
        "\n",
        "def downloadVideoYT(URL):\n",
        "  if os.path.isfile(OUTPUT_VIDEO):\n",
        "      os.remove(OUTPUT_VIDEO)\n",
        "  if os.path.isfile(OUTPUT_AUDIO):\n",
        "      os.remove(OUTPUT_AUDIO)\n",
        "  ytdl_format_options = {\n",
        "    'outtmpl': OUTPUT_VIDEO,\n",
        "    'format': 'best[ext=mp4]'\n",
        "  }\n",
        "  with YoutubeDL(ytdl_format_options) as ydl:\n",
        "    ydl.download([URL])\n",
        "  print(\"Download Complete\")\n",
        "\n",
        "def extractAudio():\n",
        "  import subprocess\n",
        "  subprocess.call([\"ffmpeg\",\n",
        "                   \"-y\",\n",
        "                   \"-i\",\n",
        "                   OUTPUT_VIDEO,\n",
        "                   OUTPUT_AUDIO])\n",
        "  print(\"Audio Extraction Complete\")"
      ],
      "metadata": {
        "id": "0w86Rnny9Bq4"
      },
      "execution_count": null,
      "outputs": []
    },
    {
      "cell_type": "code",
      "source": [
        "downloadVideoYT(\"https://www.youtube.com/watch?v=4EpfJxKyosE&ab_channel=ManaStars\")\n",
        "extractAudio()"
      ],
      "metadata": {
        "colab": {
          "base_uri": "https://localhost:8080/"
        },
        "id": "ac__Ebe9_rdr",
        "outputId": "0825df7b-2422-43af-9973-c2ec00fe5961"
      },
      "execution_count": null,
      "outputs": [
        {
          "output_type": "stream",
          "name": "stdout",
          "text": [
            "[youtube] Extracting URL: https://www.youtube.com/watch?v=4EpfJxKyosE&ab_channel=ManaStars\n",
            "[youtube] 4EpfJxKyosE: Downloading webpage\n",
            "[youtube] 4EpfJxKyosE: Downloading ios player API JSON\n",
            "[youtube] 4EpfJxKyosE: Downloading android player API JSON\n",
            "[youtube] 4EpfJxKyosE: Downloading m3u8 information\n",
            "[info] 4EpfJxKyosE: Downloading 1 format(s): 22\n",
            "[download] Destination: /content/DownloadedVideos/downloadedVideo.mkv\n",
            "[download] 100% of   24.77MiB in 00:00:01 at 16.58MiB/s  \n",
            "Download Complete\n",
            "Audio Extraction Complete\n"
          ]
        }
      ]
    },
    {
      "cell_type": "code",
      "source": [
        "import whisper\n",
        "model = whisper.load_model(\"medium\")"
      ],
      "metadata": {
        "colab": {
          "base_uri": "https://localhost:8080/"
        },
        "id": "QU1n2I9fC3J8",
        "outputId": "11afa05f-304f-4cfe-e508-6e03bed9aa85"
      },
      "execution_count": null,
      "outputs": [
        {
          "output_type": "stream",
          "name": "stderr",
          "text": [
            "100%|█████████████████████████████████████| 1.42G/1.42G [00:27<00:00, 56.1MiB/s]\n"
          ]
        }
      ]
    },
    {
      "cell_type": "code",
      "source": [
        "import json"
      ],
      "metadata": {
        "id": "AWbdbqUgAiiz"
      },
      "execution_count": null,
      "outputs": []
    },
    {
      "cell_type": "code",
      "source": [
        "translatedText = model.transcribe(\"/content/OutcomeAudios/extractedAudio.wav\", task = 'translate')"
      ],
      "metadata": {
        "id": "tt2zZNNIBMs0"
      },
      "execution_count": null,
      "outputs": []
    },
    {
      "cell_type": "code",
      "source": [
        "json_object = json.dumps(translatedText, indent=4)\n",
        "with open(\"/content/outputFile3.json\", \"w\") as outfile:\n",
        "    outfile.write(json_object)"
      ],
      "metadata": {
        "id": "ISVfH_RcvFbz"
      },
      "execution_count": null,
      "outputs": []
    },
    {
      "cell_type": "code",
      "source": [
        "f = open(\"/content/outputFile3.json\")\n",
        "data = json.load(f)\n",
        "sentences = []\n",
        "data2 = []\n",
        "\n",
        "for segment in data['segments']:\n",
        "  start_time = segment['start']\n",
        "  end_time = segment['end']\n",
        "  text = segment['text']\n",
        "  sentences.append(text)\n",
        "  newDict = dict(start_time = start_time, end_time = end_time, text = text)\n",
        "  data2.append(newDict)\n",
        "\n",
        "print(sentences)\n",
        "\n",
        "newFile = json.dumps(data2, indent=4)\n",
        "with open(\"/content/outputFileMain.json\", \"a\") as fileOut:\n",
        "  fileOut.write(newFile)"
      ],
      "metadata": {
        "colab": {
          "base_uri": "https://localhost:8080/"
        },
        "id": "5X2hLulKB807",
        "outputId": "a63b3adf-a57f-44cd-8952-49ec6f0301cd"
      },
      "execution_count": null,
      "outputs": [
        {
          "output_type": "stream",
          "name": "stdout",
          "text": [
            "[' In the last 50 years, we have made progress. No one can refuse this.', ' During the elections, we have been demanding votes,', \" and have been attacking the government's policies,\", \" and the old government's policies were all useless.\", ' I have said that I am not among those who will throw water on the 50-year-old refugees.', \" We will have to do this by throwing water on the country's prosperity.\", \" We will have to do this by doing injustice to the country's farmers.\", ' We will have to do injustice to the labourers.', ' Even with the common man, that will not be a good behavior.', ' The question that arises in the mind today, and should arise,', ' is that we have come to celebrate 50 years of independence,', ' and we are going to celebrate Jainism.', ' What is the state of the country today?', ' Why have we fallen apart?', ' In the race of progress, the countries that were with us when we were liberated,', ' they have moved ahead of us.', ' The countries that were after us, they have left us behind.', ' Our count has come in the countries that are close to the world.', ' People who are 20% below the poverty line,', ' in the debate of Ratupati,', ' are they the', ' people who are waiting for the education of girls?', ' The birth of a girl is a curse in this country.', ' Is it a job to take government steps and create awareness in the society?', ' Is it a job to gather everyone and create a place for the people?', \" Can't we change the map of the country?\", ' There is no shortage of resources in the country.', ' And if there is a shortage of resources, then it can be obtained properly.', ' The resources can also be increased.', ' But the resources are not being used properly.', ' The money that is collected by taxing the people,', ' the profit of that money does not reach the people, not even the common man.', ' Where does it go?', ' Whose pocket is filled?', ' Whose treasury is filled with money?', ' Why is the chain of money going to foreign banks still in place?', ' What steps will be taken to stop it?', ' For foreign worship, we are trying to make foreign worship come.', ' And if foreign worship comes,', ' for the technology of good money,', ' for the infrastructure,', ' for the education of the Ayat-Niryad,', ' then no one will make a mistake.', ' I am sure that even our communist friends will not make a mistake.', ' But, are the resources being used more in the country?', \" Isn't it true that corruption has become a national disease?\", ' I remember in a speech of Swargi Rajiv Gandhi,', ' I said that I send one rupee from Delhi,', ' but where I send money,', ' there is a shortage of 19 paise.', ' I asked him how this miracle happens.', ' Bhaskar said that when the money is used, it gets squashed.', ' The money gets squashed,', ' it gets in the hand,', ' it goes in the pocket,', ' it is getting smaller.', ' It is difficult to recognize the money.', ' Money can be used for internal meditation.', \" The situation of the country's coins is not good.\", ' First, the government expenses have increased.', ' Now, it is increasing.', ' Without reducing it,', ' and to reduce it, common consent is needed.', ' All parties need support.', ' No one can work as one party.', ' Yes, our old Prime Minister Narsingh Rao ji,', ' if he had been a little more active in this direction,', ' he would have been successful.', ' But he was busy with such things', ' that he could not concentrate on these problems.']\n"
          ]
        }
      ]
    },
    {
      "cell_type": "code",
      "source": [
        "from google.colab import drive\n",
        "drive.mount('/content/drive')"
      ],
      "metadata": {
        "colab": {
          "base_uri": "https://localhost:8080/"
        },
        "id": "xEn_OKVCpATE",
        "outputId": "7644fed9-2244-45e6-c5ec-cb01986e77d2"
      },
      "execution_count": null,
      "outputs": [
        {
          "output_type": "stream",
          "name": "stdout",
          "text": [
            "Mounted at /content/drive\n"
          ]
        }
      ]
    },
    {
      "cell_type": "code",
      "source": [
        "f = open(\"/content/outputFileMain.json\")\n",
        "dataNew = json.load(f)\n",
        "data2 = []\n",
        "i = 1\n",
        "\n",
        "for segment in dataNew:\n",
        "    start_time = segment['start_time']\n",
        "    end_time = segment['end_time']\n",
        "    text = segment['text']\n",
        "    audioPath = \"/content/drive/MyDrive/AudioSegments/output_audio\" + str(i) + \".wav\"\n",
        "    newDict = dict(start_time=start_time, end_time=end_time,\n",
        "                   text=text, audio=audioPath)\n",
        "    data2.append(newDict)\n",
        "    i+=1\n",
        "\n",
        "newFile = json.dumps(data2, indent=4)\n",
        "with open(\"outputFileWithAudio.json\", \"a\") as fileOut:\n",
        "    fileOut.write(newFile)"
      ],
      "metadata": {
        "id": "sXkWAQbApKcJ"
      },
      "execution_count": null,
      "outputs": []
    },
    {
      "cell_type": "code",
      "source": [
        "!pip install pydub"
      ],
      "metadata": {
        "colab": {
          "base_uri": "https://localhost:8080/"
        },
        "id": "wTeuNQlht8rU",
        "outputId": "b4518e88-51e4-43fb-959e-18e02515c909"
      },
      "execution_count": null,
      "outputs": [
        {
          "output_type": "stream",
          "name": "stdout",
          "text": [
            "Collecting pydub\n",
            "  Downloading pydub-0.25.1-py2.py3-none-any.whl (32 kB)\n",
            "Installing collected packages: pydub\n",
            "Successfully installed pydub-0.25.1\n"
          ]
        }
      ]
    },
    {
      "cell_type": "code",
      "source": [
        "from pydub import AudioSegment,silence\n",
        "\n",
        "myaudio = intro = AudioSegment.from_wav(\"/content/OutcomeAudios/extractedAudio.wav\")\n",
        "dBFS=myaudio.dBFS\n",
        "silence = silence.detect_silence(myaudio, min_silence_len=1000, silence_thresh=dBFS-16)[0]\n",
        "\n",
        "silence = [((start/1000),(stop/1000)) for start,stop in silence] #in sec\n",
        "print(silence)"
      ],
      "metadata": {
        "id": "hVYBRkIor63x"
      },
      "execution_count": null,
      "outputs": []
    },
    {
      "cell_type": "code",
      "source": [
        "from pydub import AudioSegment\n",
        "from pydub.playback import play"
      ],
      "metadata": {
        "id": "NaHuF68ivh9W"
      },
      "execution_count": null,
      "outputs": []
    },
    {
      "cell_type": "code",
      "source": [
        "audios = open(\"/content/outputFileWithAudio.json\")  # This is path of the file I have sent you.\n",
        "audioSegments = json.load(audios)\n",
        "data2 = []\n",
        "finalAudio = AudioSegment.silent(duration = silence[1])\n",
        "\n",
        "for segment in audioSegments:\n",
        "    start_time = segment['start_time']\n",
        "    end_time = segment['end_time']\n",
        "    text = segment['text']\n",
        "    audioPath = segment['audio']\n",
        "    song = AudioSegment.from_wav(audioPath)\n",
        "    finalAudio += song\n",
        "\n",
        "finalAudio.export(\"/content/FinalAudio.wav\", format=\"wav\")\n",
        "play(finalAudio)"
      ],
      "metadata": {
        "id": "POsw7bxJqy17"
      },
      "execution_count": null,
      "outputs": []
    },
    {
      "cell_type": "code",
      "source": [
        "import wave\n",
        "SAMPLING_RATE = wave.open(OUTPUT_AUDIO, \"rb\").getframerate()\n",
        "SAMPLING_RATE"
      ],
      "metadata": {
        "colab": {
          "base_uri": "https://localhost:8080/"
        },
        "id": "8I9PEc4Dw8_o",
        "outputId": "397f9690-67e2-4da0-b5e0-ba67dde81866"
      },
      "execution_count": null,
      "outputs": [
        {
          "output_type": "execute_result",
          "data": {
            "text/plain": [
              "44100"
            ]
          },
          "metadata": {},
          "execution_count": 35
        }
      ]
    },
    {
      "cell_type": "code",
      "source": [],
      "metadata": {
        "id": "yRw8072GzQ0a"
      },
      "execution_count": null,
      "outputs": []
    }
  ]
}