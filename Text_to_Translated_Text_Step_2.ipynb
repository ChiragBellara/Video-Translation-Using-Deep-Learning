{
  "nbformat": 4,
  "nbformat_minor": 0,
  "metadata": {
    "colab": {
      "provenance": []
    },
    "kernelspec": {
      "name": "python3",
      "display_name": "Python 3"
    },
    "language_info": {
      "name": "python"
    }
  },
  "cells": [
    {
      "cell_type": "markdown",
      "source": [
        "# Machine Translation\n",
        "\n",
        "\n",
        "\n"
      ],
      "metadata": {
        "id": "wVD2wjaSx3yo"
      }
    },
    {
      "cell_type": "markdown",
      "source": [
        "## Links to Models\n",
        "##### Google Translate: https://cloud.google.com/translate?hl=en & https://github.com/ahmeterenodaci/easygoogletranslate\n",
        "##### Azure AI Translator: https://azure.microsoft.com/en-us/products/ai-services/ai-translator\n",
        "##### MyMemory: https://mymemory.translated.net/doc/spec.php\n"
      ],
      "metadata": {
        "id": "hAZtm4wQwocq"
      }
    },
    {
      "cell_type": "code",
      "source": [
        "import time"
      ],
      "metadata": {
        "id": "GRQBbkOwx4ga"
      },
      "execution_count": 124,
      "outputs": []
    },
    {
      "cell_type": "code",
      "source": [
        "from google.colab import drive\n",
        "drive.mount('/content/Drive')"
      ],
      "metadata": {
        "colab": {
          "base_uri": "https://localhost:8080/"
        },
        "id": "WCkahfqOyVwa",
        "outputId": "fb825470-ac06-4309-e051-e8d836866c9f"
      },
      "execution_count": 125,
      "outputs": [
        {
          "output_type": "stream",
          "name": "stdout",
          "text": [
            "Drive already mounted at /content/Drive; to attempt to forcibly remount, call drive.mount(\"/content/Drive\", force_remount=True).\n"
          ]
        }
      ]
    },
    {
      "cell_type": "markdown",
      "source": [
        "In this code, I have translated Text from English to Spanish But it has the capability to translate in almost all languages."
      ],
      "metadata": {
        "id": "EoRF3Xs86OdU"
      }
    },
    {
      "cell_type": "markdown",
      "source": [
        "##Translating Text to Spanish using Google Translate"
      ],
      "metadata": {
        "id": "mmO6rbsDD-Dh"
      }
    },
    {
      "cell_type": "code",
      "source": [
        "# Installing the 'easygoogletranslate' library\n",
        "!pip install easygoogletranslate"
      ],
      "metadata": {
        "colab": {
          "base_uri": "https://localhost:8080/"
        },
        "id": "YB81gNR53rvI",
        "outputId": "c42927d6-7eba-4bbd-db46-d3f967d4035a"
      },
      "execution_count": 126,
      "outputs": [
        {
          "output_type": "stream",
          "name": "stdout",
          "text": [
            "Requirement already satisfied: easygoogletranslate in /usr/local/lib/python3.10/dist-packages (0.0.4)\n",
            "Requirement already satisfied: requests>=2.26.0 in /usr/local/lib/python3.10/dist-packages (from easygoogletranslate) (2.31.0)\n",
            "Requirement already satisfied: charset-normalizer<4,>=2 in /usr/local/lib/python3.10/dist-packages (from requests>=2.26.0->easygoogletranslate) (3.3.0)\n",
            "Requirement already satisfied: idna<4,>=2.5 in /usr/local/lib/python3.10/dist-packages (from requests>=2.26.0->easygoogletranslate) (2.10)\n",
            "Requirement already satisfied: urllib3<3,>=1.21.1 in /usr/local/lib/python3.10/dist-packages (from requests>=2.26.0->easygoogletranslate) (2.0.7)\n",
            "Requirement already satisfied: certifi>=2017.4.17 in /usr/local/lib/python3.10/dist-packages (from requests>=2.26.0->easygoogletranslate) (2023.7.22)\n"
          ]
        }
      ]
    },
    {
      "cell_type": "code",
      "source": [
        "# Importing required modules\n",
        "from easygoogletranslate import EasyGoogleTranslate\n",
        "\n",
        "start_time = time.time()\n",
        "\n",
        "translator = EasyGoogleTranslate(\n",
        "    source_language='en',\n",
        "    target_language='es',\n",
        "    timeout=10\n",
        ")\n",
        "# Enter the text to be translated\n",
        "result = translator.translate(\" Hello there! My name is Phil. I have been an online English tutor for almost three years now. I've been helping students from beginner to advanced level improve their English skills. I've tried teaching kids and adults. I used CPR. Look! Rewards! And many more! I would love to help you improve and make progress in learning. From phonics, grammar, pronunciation and up to conversational English. I've already earned my Tassel and Tia Felt certificate, so you're in good hands. Learn with me and let's make English a fun and easy language. See ya!\")\n",
        "\n",
        "print(result)\n",
        "print(\"Google Translate : %s seconds\" % (time.time() - start_time))"
      ],
      "metadata": {
        "colab": {
          "base_uri": "https://localhost:8080/"
        },
        "id": "nA9RG_GR3ZfD",
        "outputId": "5fe3e2a7-5a54-46a4-ef26-1c04d87c39e4"
      },
      "execution_count": 127,
      "outputs": [
        {
          "output_type": "stream",
          "name": "stdout",
          "text": [
            "¡Hola! Mi nombre es Fil. He sido tutor de inglés en línea durante casi tres años. He estado ayudando a estudiantes desde nivel principiante hasta avanzado a mejorar sus habilidades en inglés. He intentado enseñar a niños y adultos. Utilicé RCP. ¡Mirar! ¡Recompensas! ¡Y muchos más! Me encantaría ayudarte a mejorar y progresar en el aprendizaje. Desde fonética, gramática, pronunciación y hasta inglés conversacional. Ya obtuve mi certificado de Borla y Tia Felt, así que estás en buenas manos. Aprende conmigo y hagamos del inglés un idioma fácil y divertido. ¡Nos vemos!\n",
            "Google Translate : 0.3525381088256836 seconds\n"
          ]
        }
      ]
    },
    {
      "cell_type": "markdown",
      "source": [
        "##Translating Text to Spanish using Azure AI Translator"
      ],
      "metadata": {
        "id": "FPn55iJzEQ7k"
      }
    },
    {
      "cell_type": "code",
      "source": [
        "# Install the 'requests' and 'uuid' libraries\n",
        "!pip install requests uuid"
      ],
      "metadata": {
        "colab": {
          "base_uri": "https://localhost:8080/"
        },
        "id": "w0dZrIteLS1K",
        "outputId": "049de07f-fe48-47a0-af68-b291bc64f447"
      },
      "execution_count": 128,
      "outputs": [
        {
          "output_type": "stream",
          "name": "stdout",
          "text": [
            "Requirement already satisfied: requests in /usr/local/lib/python3.10/dist-packages (2.31.0)\n",
            "Requirement already satisfied: uuid in /usr/local/lib/python3.10/dist-packages (1.30)\n",
            "Requirement already satisfied: charset-normalizer<4,>=2 in /usr/local/lib/python3.10/dist-packages (from requests) (3.3.0)\n",
            "Requirement already satisfied: idna<4,>=2.5 in /usr/local/lib/python3.10/dist-packages (from requests) (2.10)\n",
            "Requirement already satisfied: urllib3<3,>=1.21.1 in /usr/local/lib/python3.10/dist-packages (from requests) (2.0.7)\n",
            "Requirement already satisfied: certifi>=2017.4.17 in /usr/local/lib/python3.10/dist-packages (from requests) (2023.7.22)\n"
          ]
        }
      ]
    },
    {
      "cell_type": "code",
      "source": [
        "# Import required modules\n",
        "import requests\n",
        "\n",
        "start_time = time.time()\n",
        "\n",
        "# Define your Azure Cognitive Services Translator API credentials and configuration\n",
        "key = \"ebe0efc466cd4c119e987d8fb0a7c748\"\n",
        "endpoint = \"https://api.cognitive.microsofttranslator.com/\"\n",
        "\n",
        "# Define the Azure region\n",
        "location = \"westus2\"\n",
        "\n",
        "# Define the API path for translation\n",
        "path = '/translate'\n",
        "constructed_url = endpoint + path\n",
        "\n",
        "# Define parameters\n",
        "params = {\n",
        "    'api-version': '3.0',\n",
        "    'from': 'en',\n",
        "    'to': ['es']\n",
        "}\n",
        "\n",
        "# Define request headers\n",
        "headers = {\n",
        "    'Ocp-Apim-Subscription-Key': key,\n",
        "    'Ocp-Apim-Subscription-Region': location,\n",
        "    'Content-type': 'application/json',\n",
        "    'X-ClientTraceId': str(uuid.uuid4())\n",
        "}\n",
        "\n",
        "# Define the text to be translated\n",
        "body = [{\n",
        "    'text': \"Hello there! My name is Phil. I have been an online English tutor for almost three years now. I've been helping students from beginner to advanced level improve their English skills. I've tried teaching kids and adults. I used CPR. Look! Rewards! And many more! I would love to help you improve and make progress in learning. From phonics, grammar, pronunciation and up to conversational English. I've already earned my Tassel and Tia Felt certificate, so you're in good hands. Learn with me and let's make English a fun and easy language. See ya!\"\n",
        "}]\n",
        "\n",
        "# Make a POST request\n",
        "request = requests.post(constructed_url, params=params, headers=headers, json=body)\n",
        "\n",
        "response = request.json()\n",
        "\n",
        "translation = response[0]['translations'][0]['text']\n",
        "\n",
        "print(translation)\n",
        "\n",
        "print(\"Azure AI Translator: %s seconds\" % (time.time() - start_time))\n"
      ],
      "metadata": {
        "colab": {
          "base_uri": "https://localhost:8080/"
        },
        "id": "Arux7jYa9N9I",
        "outputId": "edb0c536-dbac-4199-f1ea-af74304d0064"
      },
      "execution_count": 129,
      "outputs": [
        {
          "output_type": "stream",
          "name": "stdout",
          "text": [
            "¡Hola! Mi nombre es Phil. He sido tutor de inglés en línea durante casi tres años. He estado ayudando a estudiantes desde principiantes hasta niveles avanzados a mejorar sus habilidades en inglés. He intentado enseñar a niños y adultos. Usé RCP. ¡Mirar! ¡Recompensas! ¡Y muchos más! Me encantaría ayudarte a mejorar y progresar en el aprendizaje. Desde la fonética, la gramática, la pronunciación y hasta el inglés conversacional. Ya obtuve mi certificado de Tassel y Tia Felt, así que estás en buenas manos. Aprende conmigo y hagamos del inglés un idioma fácil y divertido. ¡Nos vemos!\n",
            "Azure AI Translator: 0.4350011348724365 seconds\n"
          ]
        }
      ]
    },
    {
      "cell_type": "markdown",
      "source": [
        "##Translating Text to Spanish using MyMemory"
      ],
      "metadata": {
        "id": "xbBHljNvejHG"
      }
    },
    {
      "cell_type": "code",
      "source": [
        "# Install the 'mtranslate' library\n",
        "!pip install mtranslate"
      ],
      "metadata": {
        "colab": {
          "base_uri": "https://localhost:8080/"
        },
        "id": "-vj5XkYMtYzR",
        "outputId": "10550e7a-1fa3-48dd-a845-b6593dce4ac0"
      },
      "execution_count": 130,
      "outputs": [
        {
          "output_type": "stream",
          "name": "stdout",
          "text": [
            "Requirement already satisfied: mtranslate in /usr/local/lib/python3.10/dist-packages (1.8)\n"
          ]
        }
      ]
    },
    {
      "cell_type": "code",
      "source": [
        "# Import the 'mtranslate' library\n",
        "from mtranslate import translate\n",
        "\n",
        "start_time = time.time()\n",
        "\n",
        "def translate_to_spanish(text):\n",
        "    try:\n",
        "        translated_text = translate(text, 'es', 'en')\n",
        "        return translated_text\n",
        "    except Exception as e:\n",
        "        return f\"Translation error: {str(e)}\"\n",
        "\n",
        "if __name__ == \"__main__\":\n",
        "    # Define the text to be translated\n",
        "    text_to_translate = \" Hello there! My name is Phil. I have been an online English tutor for almost three years now. I've been helping students from beginner to advanced level improve their English skills. I've tried teaching kids and adults. I used CPR. Look! Rewards! And many more! I would love to help you improve and make progress in learning. From phonics, grammar, pronunciation and up to conversational English. I've already earned my Tassel and Tia Felt certificate, so you're in good hands. Learn with me and let's make English a fun and easy language. See ya!\"\n",
        "    translated_text = translate_to_spanish(text_to_translate)\n",
        "    print(translated_text)\n",
        "\n",
        "\n",
        "print(\"MyMemory : %s seconds\" % (time.time() - start_time))"
      ],
      "metadata": {
        "colab": {
          "base_uri": "https://localhost:8080/"
        },
        "id": "Ft-xGTgjtd1u",
        "outputId": "7ae5a031-2a0d-4700-fa5f-9b3d92c2cd90"
      },
      "execution_count": 131,
      "outputs": [
        {
          "output_type": "stream",
          "name": "stdout",
          "text": [
            "¡Hola! Mi nombre es Fil. He sido tutor de inglés en línea durante casi tres años. He estado ayudando a estudiantes desde nivel principiante hasta avanzado a mejorar sus habilidades en inglés. He intentado enseñar a niños y adultos. Utilicé RCP. ¡Mirar! ¡Recompensas! ¡Y muchos más! Me encantaría ayudarte a mejorar y progresar en el aprendizaje. Desde fonética, gramática, pronunciación y hasta inglés conversacional. Ya obtuve mi certificado de Borla y Tia Felt, así que estás en buenas manos. Aprende conmigo y hagamos del inglés un idioma fácil y divertido. ¡Nos vemos!\n",
            "MyMemory : 0.4078376293182373 seconds\n"
          ]
        }
      ]
    },
    {
      "cell_type": "markdown",
      "source": [
        "### Time Taken to Translate by Different models\n",
        "\n",
        "| Model    | Time of Execution (in sec)|\n",
        "| :---        |    :----:   \n",
        "| Google Translate   | 0.35    |\n",
        "| Azure AI Translator | 0.43     |\n",
        "| MyMemory  | 0.40        |"
      ],
      "metadata": {
        "id": "S_du85rC6qOV"
      }
    }
  ]
}