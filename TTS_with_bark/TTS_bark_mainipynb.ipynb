{
  "cells": [
    {
      "cell_type": "markdown",
      "metadata": {
        "id": "view-in-github",
        "colab_type": "text"
      },
      "source": [
        "<a href=\"https://colab.research.google.com/github/ChiragBellara/Video-Translation-Using-Deep-Learning/blob/silbunsa-patch-1/TTS_with_bark/TTS_bark_mainipynb.ipynb\" target=\"_parent\"><img src=\"https://colab.research.google.com/assets/colab-badge.svg\" alt=\"Open In Colab\"/></a>"
      ]
    },
    {
      "cell_type": "markdown",
      "metadata": {
        "id": "eljEVxldOqvP"
      },
      "source": [
        "This module would be used for converting Text to Speech. I have currently used suno-bark(https://github.com/suno-ai/bark) as it uses transformer for the voice and supports 13 languages. As a video can have lengthy speech I have used nltk for splitting them into sentences. Initially I am taking script.txt as the speech that needs to be converted and saving it as a tts.wav file.\n",
        "\n",
        "This module needs to work as an API getting the speech and outputting the audio file for desired language."
      ]
    },
    {
      "cell_type": "code",
      "execution_count": null,
      "metadata": {
        "colab": {
          "base_uri": "https://localhost:8080/"
        },
        "id": "bJDZnTKlz3hT",
        "outputId": "d630f4ef-22ed-4955-cd89-d43669779042"
      },
      "outputs": [
        {
          "output_type": "stream",
          "name": "stdout",
          "text": [
            "Collecting git+https://github.com/suno-ai/bark.git\n",
            "  Cloning https://github.com/suno-ai/bark.git to /tmp/pip-req-build-odcc3g2f\n",
            "  Running command git clone --filter=blob:none --quiet https://github.com/suno-ai/bark.git /tmp/pip-req-build-odcc3g2f\n",
            "  Resolved https://github.com/suno-ai/bark.git to commit 773624d26db84278a55aacae9a16d7b25fbccab8\n",
            "  Installing build dependencies ... \u001b[?25l\u001b[?25hdone\n",
            "  Getting requirements to build wheel ... \u001b[?25l\u001b[?25hdone\n",
            "  Installing backend dependencies ... \u001b[?25l\u001b[?25hdone\n",
            "  Preparing metadata (pyproject.toml) ... \u001b[?25l\u001b[?25hdone\n",
            "Requirement already satisfied: boto3 in /usr/local/lib/python3.10/dist-packages (from suno-bark==0.0.1a0) (1.28.70)\n",
            "Requirement already satisfied: encodec in /usr/local/lib/python3.10/dist-packages (from suno-bark==0.0.1a0) (0.1.1)\n",
            "Requirement already satisfied: funcy in /usr/local/lib/python3.10/dist-packages (from suno-bark==0.0.1a0) (2.0)\n",
            "Requirement already satisfied: huggingface-hub>=0.14.1 in /usr/local/lib/python3.10/dist-packages (from suno-bark==0.0.1a0) (0.17.3)\n",
            "Requirement already satisfied: numpy in /usr/local/lib/python3.10/dist-packages (from suno-bark==0.0.1a0) (1.23.5)\n",
            "Requirement already satisfied: scipy in /usr/local/lib/python3.10/dist-packages (from suno-bark==0.0.1a0) (1.11.3)\n",
            "Requirement already satisfied: tokenizers in /usr/local/lib/python3.10/dist-packages (from suno-bark==0.0.1a0) (0.14.1)\n",
            "Requirement already satisfied: torch in /usr/local/lib/python3.10/dist-packages (from suno-bark==0.0.1a0) (2.1.0+cu118)\n",
            "Requirement already satisfied: tqdm in /usr/local/lib/python3.10/dist-packages (from suno-bark==0.0.1a0) (4.66.1)\n",
            "Requirement already satisfied: transformers in /usr/local/lib/python3.10/dist-packages (from suno-bark==0.0.1a0) (4.35.0.dev0)\n",
            "Requirement already satisfied: filelock in /usr/local/lib/python3.10/dist-packages (from huggingface-hub>=0.14.1->suno-bark==0.0.1a0) (3.12.4)\n",
            "Requirement already satisfied: fsspec in /usr/local/lib/python3.10/dist-packages (from huggingface-hub>=0.14.1->suno-bark==0.0.1a0) (2023.6.0)\n",
            "Requirement already satisfied: requests in /usr/local/lib/python3.10/dist-packages (from huggingface-hub>=0.14.1->suno-bark==0.0.1a0) (2.31.0)\n",
            "Requirement already satisfied: pyyaml>=5.1 in /usr/local/lib/python3.10/dist-packages (from huggingface-hub>=0.14.1->suno-bark==0.0.1a0) (6.0.1)\n",
            "Requirement already satisfied: typing-extensions>=3.7.4.3 in /usr/local/lib/python3.10/dist-packages (from huggingface-hub>=0.14.1->suno-bark==0.0.1a0) (4.5.0)\n",
            "Requirement already satisfied: packaging>=20.9 in /usr/local/lib/python3.10/dist-packages (from huggingface-hub>=0.14.1->suno-bark==0.0.1a0) (23.2)\n",
            "Requirement already satisfied: botocore<1.32.0,>=1.31.70 in /usr/local/lib/python3.10/dist-packages (from boto3->suno-bark==0.0.1a0) (1.31.70)\n",
            "Requirement already satisfied: jmespath<2.0.0,>=0.7.1 in /usr/local/lib/python3.10/dist-packages (from boto3->suno-bark==0.0.1a0) (1.0.1)\n",
            "Requirement already satisfied: s3transfer<0.8.0,>=0.7.0 in /usr/local/lib/python3.10/dist-packages (from boto3->suno-bark==0.0.1a0) (0.7.0)\n",
            "Requirement already satisfied: torchaudio in /usr/local/lib/python3.10/dist-packages (from encodec->suno-bark==0.0.1a0) (2.1.0+cu118)\n",
            "Requirement already satisfied: einops in /usr/local/lib/python3.10/dist-packages (from encodec->suno-bark==0.0.1a0) (0.7.0)\n",
            "Requirement already satisfied: sympy in /usr/local/lib/python3.10/dist-packages (from torch->suno-bark==0.0.1a0) (1.12)\n",
            "Requirement already satisfied: networkx in /usr/local/lib/python3.10/dist-packages (from torch->suno-bark==0.0.1a0) (3.2)\n",
            "Requirement already satisfied: jinja2 in /usr/local/lib/python3.10/dist-packages (from torch->suno-bark==0.0.1a0) (3.1.2)\n",
            "Requirement already satisfied: triton==2.1.0 in /usr/local/lib/python3.10/dist-packages (from torch->suno-bark==0.0.1a0) (2.1.0)\n",
            "Requirement already satisfied: regex!=2019.12.17 in /usr/local/lib/python3.10/dist-packages (from transformers->suno-bark==0.0.1a0) (2023.6.3)\n",
            "Requirement already satisfied: safetensors>=0.3.1 in /usr/local/lib/python3.10/dist-packages (from transformers->suno-bark==0.0.1a0) (0.4.0)\n",
            "Requirement already satisfied: python-dateutil<3.0.0,>=2.1 in /usr/local/lib/python3.10/dist-packages (from botocore<1.32.0,>=1.31.70->boto3->suno-bark==0.0.1a0) (2.8.2)\n",
            "Requirement already satisfied: urllib3<2.1,>=1.25.4 in /usr/local/lib/python3.10/dist-packages (from botocore<1.32.0,>=1.31.70->boto3->suno-bark==0.0.1a0) (2.0.7)\n",
            "Requirement already satisfied: MarkupSafe>=2.0 in /usr/local/lib/python3.10/dist-packages (from jinja2->torch->suno-bark==0.0.1a0) (2.1.3)\n",
            "Requirement already satisfied: charset-normalizer<4,>=2 in /usr/local/lib/python3.10/dist-packages (from requests->huggingface-hub>=0.14.1->suno-bark==0.0.1a0) (3.3.0)\n",
            "Requirement already satisfied: idna<4,>=2.5 in /usr/local/lib/python3.10/dist-packages (from requests->huggingface-hub>=0.14.1->suno-bark==0.0.1a0) (3.4)\n",
            "Requirement already satisfied: certifi>=2017.4.17 in /usr/local/lib/python3.10/dist-packages (from requests->huggingface-hub>=0.14.1->suno-bark==0.0.1a0) (2023.7.22)\n",
            "Requirement already satisfied: mpmath>=0.19 in /usr/local/lib/python3.10/dist-packages (from sympy->torch->suno-bark==0.0.1a0) (1.3.0)\n",
            "Requirement already satisfied: six>=1.5 in /usr/local/lib/python3.10/dist-packages (from python-dateutil<3.0.0,>=2.1->botocore<1.32.0,>=1.31.70->boto3->suno-bark==0.0.1a0) (1.16.0)\n"
          ]
        }
      ],
      "source": [
        "!pip install git+https://github.com/suno-ai/bark.git"
      ]
    },
    {
      "cell_type": "code",
      "execution_count": null,
      "metadata": {
        "colab": {
          "base_uri": "https://localhost:8080/"
        },
        "id": "joMMH4xn0COw",
        "outputId": "587f2cba-c37d-483e-864b-b3069a8dc396"
      },
      "outputs": [
        {
          "output_type": "stream",
          "name": "stdout",
          "text": [
            "Collecting git+https://github.com/huggingface/transformers.git\n",
            "  Cloning https://github.com/huggingface/transformers.git to /tmp/pip-req-build-ww08ck5l\n",
            "  Running command git clone --filter=blob:none --quiet https://github.com/huggingface/transformers.git /tmp/pip-req-build-ww08ck5l\n",
            "  Resolved https://github.com/huggingface/transformers.git to commit 6cbc1369a330860c128a1ba365f246751382c9e5\n",
            "  Installing build dependencies ... \u001b[?25l\u001b[?25hdone\n",
            "  Getting requirements to build wheel ... \u001b[?25l\u001b[?25hdone\n",
            "  Preparing metadata (pyproject.toml) ... \u001b[?25l\u001b[?25hdone\n",
            "Requirement already satisfied: filelock in /usr/local/lib/python3.10/dist-packages (from transformers==4.35.0.dev0) (3.12.4)\n",
            "Requirement already satisfied: huggingface-hub<1.0,>=0.16.4 in /usr/local/lib/python3.10/dist-packages (from transformers==4.35.0.dev0) (0.17.3)\n",
            "Requirement already satisfied: numpy>=1.17 in /usr/local/lib/python3.10/dist-packages (from transformers==4.35.0.dev0) (1.23.5)\n",
            "Requirement already satisfied: packaging>=20.0 in /usr/local/lib/python3.10/dist-packages (from transformers==4.35.0.dev0) (23.2)\n",
            "Requirement already satisfied: pyyaml>=5.1 in /usr/local/lib/python3.10/dist-packages (from transformers==4.35.0.dev0) (6.0.1)\n",
            "Requirement already satisfied: regex!=2019.12.17 in /usr/local/lib/python3.10/dist-packages (from transformers==4.35.0.dev0) (2023.6.3)\n",
            "Requirement already satisfied: requests in /usr/local/lib/python3.10/dist-packages (from transformers==4.35.0.dev0) (2.31.0)\n",
            "Requirement already satisfied: tokenizers<0.15,>=0.14 in /usr/local/lib/python3.10/dist-packages (from transformers==4.35.0.dev0) (0.14.1)\n",
            "Requirement already satisfied: safetensors>=0.3.1 in /usr/local/lib/python3.10/dist-packages (from transformers==4.35.0.dev0) (0.4.0)\n",
            "Requirement already satisfied: tqdm>=4.27 in /usr/local/lib/python3.10/dist-packages (from transformers==4.35.0.dev0) (4.66.1)\n",
            "Requirement already satisfied: fsspec in /usr/local/lib/python3.10/dist-packages (from huggingface-hub<1.0,>=0.16.4->transformers==4.35.0.dev0) (2023.6.0)\n",
            "Requirement already satisfied: typing-extensions>=3.7.4.3 in /usr/local/lib/python3.10/dist-packages (from huggingface-hub<1.0,>=0.16.4->transformers==4.35.0.dev0) (4.5.0)\n",
            "Requirement already satisfied: charset-normalizer<4,>=2 in /usr/local/lib/python3.10/dist-packages (from requests->transformers==4.35.0.dev0) (3.3.0)\n",
            "Requirement already satisfied: idna<4,>=2.5 in /usr/local/lib/python3.10/dist-packages (from requests->transformers==4.35.0.dev0) (3.4)\n",
            "Requirement already satisfied: urllib3<3,>=1.21.1 in /usr/local/lib/python3.10/dist-packages (from requests->transformers==4.35.0.dev0) (2.0.7)\n",
            "Requirement already satisfied: certifi>=2017.4.17 in /usr/local/lib/python3.10/dist-packages (from requests->transformers==4.35.0.dev0) (2023.7.22)\n"
          ]
        }
      ],
      "source": [
        "!pip install git+https://github.com/huggingface/transformers.git"
      ]
    },
    {
      "cell_type": "code",
      "execution_count": null,
      "metadata": {
        "id": "cTgURPqW0jYQ",
        "outputId": "3f250409-2220-419f-aead-98dfdece206f",
        "colab": {
          "base_uri": "https://localhost:8080/"
        }
      },
      "outputs": [
        {
          "output_type": "stream",
          "name": "stderr",
          "text": [
            "/usr/local/lib/python3.10/dist-packages/torch/nn/utils/weight_norm.py:30: UserWarning: torch.nn.utils.weight_norm is deprecated in favor of torch.nn.utils.parametrizations.weight_norm.\n",
            "  warnings.warn(\"torch.nn.utils.weight_norm is deprecated in favor of torch.nn.utils.parametrizations.weight_norm.\")\n"
          ]
        }
      ],
      "source": [
        "from bark import SAMPLE_RATE, generate_audio, preload_models\n",
        "from scipy.io.wavfile import write as write_wav\n",
        "from IPython.display import Audio\n",
        "import scipy\n",
        "# download and load all models\n",
        "preload_models()\n"
      ]
    },
    {
      "cell_type": "code",
      "execution_count": null,
      "metadata": {
        "id": "JM6ttUn588K5",
        "colab": {
          "base_uri": "https://localhost:8080/"
        },
        "outputId": "213f3e53-e098-42c0-98f9-88d91d529f1c"
      },
      "outputs": [
        {
          "output_type": "stream",
          "name": "stderr",
          "text": [
            "[nltk_data] Downloading package punkt to /root/nltk_data...\n",
            "[nltk_data]   Package punkt is already up-to-date!\n"
          ]
        }
      ],
      "source": [
        "import os\n",
        "os.environ[\"CUDA_VISIBLE_DEVICES\"] = \"\"\n",
        "import nltk  # we'll use this to split into sentences\n",
        "import numpy as np\n",
        "import soundfile as sf\n",
        "\n",
        "nltk.download('punkt')\n",
        "from bark.generation import (\n",
        "    generate_text_semantic,\n",
        "    preload_models,\n",
        ")\n",
        "from bark.api import semantic_to_waveform\n",
        "from bark import generate_audio, SAMPLE_RATE\n",
        "\n"
      ]
    },
    {
      "cell_type": "code",
      "source": [
        "script_file = \"script.txt\"\n",
        "with open(script_file, \"r\") as file:\n",
        "  script = file.read()\n",
        "script.replace(\"\\n\", \" \").strip()"
      ],
      "metadata": {
        "colab": {
          "base_uri": "https://localhost:8080/",
          "height": 147
        },
        "id": "XUQBEHiwSAsW",
        "outputId": "9ff83f4d-f039-4571-91f4-3460b74c84fa"
      },
      "execution_count": null,
      "outputs": [
        {
          "output_type": "execute_result",
          "data": {
            "text/plain": [
              "'नई दिल्ली : मिलेट्स वर्ष में योगी सरकार श्रीअन्न को बढ़ावा दे रही है. इसी क्रम में 27 से 29 अक्टूबर तक इंदिरा गांधी प्रतिष्ठान में श्रीअन्न महोत्सव का आयोजन किया जा रहा है. यहां एक तरफ जहां श्रीअन्न के पोषक मूल्य खेती- प्रसंस्करण पर चर्चा होगी, वहीं दूसरी तरफ लखनऊ के नामचीन होटल व रेस्तरां भी मिलेट्स व्यंजनों की कुकिंग प्रतियोगिता में हिस्सा लेंगे. इसके लिए आयोजन के दूसरे दिन चटोरी गली में यह प्रतियोगिता प्रस्तावित है. मोटे अनाजों को बढ़ावा देने के योगी सरकार के निर्देश के उपरांत यह तैयारी की जा रही है. चटोरी गली में मिलेट्स उत्पाद की खुशबू बिखेरेंगे होटल-रेस्तरां कृषि विभाग की देखरेख में होने वाले श्रीअन्न महोत्सव के अंतर्गत मिलेट्स व्यंजनों की प्रतियोगिता होगी. इसमें लखनऊ के कई नामचीन होटल व रेस्तरां की तरफ से मिलेट्स व्यंजन आमजन के लिए होंगे. कृषि विभाग व एलडीए के संयुक्त तत्वावधान में यह कार्यक्रम प्रस्तावित है. चटोरी गली में होने वाली प्रतियोगिता के लिए होटल-रेस्तरां एसोसिएशन से संपर्क साधा जा रहा है. इसमें बाजरा, कुट्टू, रामदाना, ज्वार, कोदो, सावां, ज्वार आदि के अनेक लजीज व्यंजन होंगे. सर्वश्रेष्ठ व्यंजन वाले होटलों को दिए जाएंगे पुरस्कार मिलेट्स व्यंजन परोसने वाले होटलों के बीच कड़ी प्रतिस्पर्धा भी होगी. दूसरे दिन प्रस्तावित कुकिंग प्रतियोगिता में सबसे स्वादिष्ट व्यंजन वाले होटल-रेस्तरां को पुरस्कृत भी किया जाएगा. निर्णायकों द्वारा चुने गए प्रथम-द्वितीय व तृतीय पुरस्कार पाने वाले विजेताओं को कृषि विभाग सम्मानित करेगा. कृषि विभाग इसकी तैयारी में जुट गया है. इस प्रतियोगिता का उद्देश्य आमजन में मोटे अनाजों के प्रति जागरूकता लाना भी है. मिलेट्स के उत्पादों का होगा प्रदर्शन इंदिरा गांधी प्रतिष्ठान में होने वाले महोत्सव में भी मिलेट्स के उत्पादों का प्रदर्शन किया जाएगा. त्रिदिवसीय प्रदर्शनी में 40 स्टॉल लगेंगे, जिसमें एफपीओ, विभिन्न विभागों के साथ ही होटल एसोसिएशन के स्टॉल भी लगाए जाएंगे. देश-प्रदेश के कृषि अनुसंधान संस्थानों के विशेषज्ञों के साथ ही प्रगतिशील किसानों की सहभागिता से इस आयोजन को काफी समृद्ध ढंग से मनाने की तैयारी चल रही है.'"
            ],
            "application/vnd.google.colaboratory.intrinsic+json": {
              "type": "string"
            }
          },
          "metadata": {},
          "execution_count": 13
        }
      ]
    },
    {
      "cell_type": "code",
      "source": [
        "def convert(speech,lang):\n",
        "  sentences = nltk.sent_tokenize(script)\n",
        "  speaker = {\n",
        "    \"en\": \"v2/en_speaker_3\",\n",
        "    \"hi\": \"v2/hi_speaker_2\",\n",
        "    \"ja\": \"v2/ja_speaker_6\",\n",
        "    \"fr\": \"v2/fr_speaker_6\",\n",
        "    \"es\": \"v2/es_speaker_6\"\n",
        "    }\n",
        "\n",
        "  SPEAKER = speaker[lang]\n",
        "  GEN_TEMP = 0.6\n",
        "  silence = np.zeros(int(0.2 * SAMPLE_RATE))  # quarter second of silence\n",
        "  pieces = []\n",
        "  for sentence in sentences:\n",
        "    semantic_tokens = generate_text_semantic(\n",
        "        sentence, #Tokenized sentence\n",
        "        history_prompt=SPEAKER, #speaker model\n",
        "        temp=GEN_TEMP, #Threshold for randomness in generated voice\n",
        "        min_eos_p=0.05,  # this controls how likely the generation is to end\n",
        "    )\n",
        "    audio_array = semantic_to_waveform(semantic_tokens, history_prompt=SPEAKER,)\n",
        "    pieces += [audio_array, silence.copy()]\n",
        "\n",
        "  final_piece=np.concatenate(pieces)\n",
        "  sf.write(\"output_audio.wav\", final_piece, SAMPLE_RATE)\n",
        "  # Get the full path to the saved file\n",
        "  file_path = os.path.abspath(\"output_audio.wav\")\n",
        "  return file_path\n",
        "\n"
      ],
      "metadata": {
        "id": "Jw_51gqmBtRO"
      },
      "execution_count": null,
      "outputs": []
    },
    {
      "cell_type": "code",
      "source": [
        "converted_path=convert(script,\"hi\")\n"
      ],
      "metadata": {
        "id": "RO8dx9mc7TSt",
        "outputId": "7d646398-e4b5-45e4-cd18-0c24f66154c3",
        "colab": {
          "base_uri": "https://localhost:8080/"
        }
      },
      "execution_count": null,
      "outputs": [
        {
          "output_type": "stream",
          "name": "stderr",
          "text": [
            "100%|██████████| 667/667 [01:21<00:00,  8.23it/s]\n",
            "100%|██████████| 34/34 [00:34<00:00,  1.00s/it]\n",
            "100%|██████████| 671/671 [01:25<00:00,  7.80it/s]\n",
            "100%|██████████| 34/34 [00:32<00:00,  1.05it/s]\n",
            "100%|██████████| 593/593 [01:11<00:00,  8.34it/s]\n",
            "100%|██████████| 30/30 [00:30<00:00,  1.02s/it]\n",
            "100%|██████████| 546/546 [01:02<00:00,  8.74it/s]\n",
            "100%|██████████| 28/28 [00:26<00:00,  1.04it/s]\n",
            "100%|██████████| 335/335 [00:31<00:00, 10.52it/s]\n",
            "100%|██████████| 17/17 [00:16<00:00,  1.04it/s]\n",
            "100%|██████████| 627/627 [01:17<00:00,  8.13it/s]\n",
            "100%|██████████| 32/32 [00:31<00:00,  1.02it/s]\n",
            "100%|██████████| 414/414 [00:41<00:00,  9.89it/s]\n",
            "100%|██████████| 21/21 [00:19<00:00,  1.05it/s]\n",
            "100%|██████████| 267/267 [00:23<00:00, 11.27it/s]\n",
            "100%|██████████| 14/14 [00:13<00:00,  1.06it/s]\n",
            "100%|██████████| 368/368 [00:35<00:00, 10.33it/s]\n",
            "100%|██████████| 19/19 [00:17<00:00,  1.07it/s]\n",
            "100%|██████████| 360/360 [00:34<00:00, 10.36it/s]\n",
            "100%|██████████| 19/19 [00:18<00:00,  1.04it/s]\n",
            "100%|██████████| 409/409 [00:41<00:00,  9.96it/s]\n",
            "100%|██████████| 21/21 [00:19<00:00,  1.06it/s]\n",
            "100%|██████████| 483/483 [00:52<00:00,  9.28it/s]\n",
            "100%|██████████| 25/25 [00:23<00:00,  1.04it/s]\n",
            "100%|██████████| 456/456 [00:48<00:00,  9.46it/s]\n",
            "100%|██████████| 23/23 [00:21<00:00,  1.05it/s]\n",
            "100%|██████████| 156/156 [00:12<00:00, 12.74it/s]\n",
            "100%|██████████| 8/8 [00:07<00:00,  1.02it/s]\n",
            "100%|██████████| 302/302 [00:28<00:00, 10.77it/s]\n",
            "100%|██████████| 16/16 [00:14<00:00,  1.07it/s]\n",
            "100%|██████████| 609/609 [01:14<00:00,  8.22it/s]\n",
            "100%|██████████| 31/31 [00:30<00:00,  1.02it/s]\n",
            "100%|██████████| 564/564 [01:05<00:00,  8.56it/s]\n",
            "100%|██████████| 29/29 [00:28<00:00,  1.01it/s]\n",
            "100%|██████████| 626/626 [01:17<00:00,  8.10it/s]\n",
            "100%|██████████| 32/32 [00:30<00:00,  1.05it/s]\n"
          ]
        }
      ]
    }
  ],
  "metadata": {
    "accelerator": "GPU",
    "colab": {
      "provenance": [],
      "gpuType": "T4",
      "include_colab_link": true
    },
    "kernelspec": {
      "display_name": "Python 3",
      "name": "python3"
    },
    "language_info": {
      "name": "python"
    }
  },
  "nbformat": 4,
  "nbformat_minor": 0
}