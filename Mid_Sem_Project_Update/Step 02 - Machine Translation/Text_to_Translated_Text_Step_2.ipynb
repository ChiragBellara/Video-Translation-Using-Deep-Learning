{
  "nbformat": 4,
  "nbformat_minor": 0,
  "metadata": {
    "colab": {
      "provenance": []
    },
    "kernelspec": {
      "name": "python3",
      "display_name": "Python 3"
    },
    "language_info": {
      "name": "python"
    }
  },
  "cells": [
    {
      "cell_type": "markdown",
      "source": [
        "# Machine Translation\n",
        "\n",
        "\n",
        "\n"
      ],
      "metadata": {
        "id": "wVD2wjaSx3yo"
      }
    },
    {
      "cell_type": "markdown",
      "source": [
        "## Links to Models\n",
        "##### Google Translate: https://cloud.google.com/translate?hl=en & https://github.com/ahmeterenodaci/easygoogletranslate\n",
        "##### Azure AI Translator: https://azure.microsoft.com/en-us/products/ai-services/ai-translator\n",
        "##### MyMemory: https://mymemory.translated.net/doc/spec.php\n"
      ],
      "metadata": {
        "id": "hAZtm4wQwocq"
      }
    },
    {
      "cell_type": "code",
      "source": [
        "import time"
      ],
      "metadata": {
        "id": "GRQBbkOwx4ga"
      },
      "execution_count": 1,
      "outputs": []
    },
    {
      "cell_type": "code",
      "source": [
        "from google.colab import drive\n",
        "drive.mount('/content/Drive')"
      ],
      "metadata": {
        "colab": {
          "base_uri": "https://localhost:8080/"
        },
        "id": "WCkahfqOyVwa",
        "outputId": "f308eaea-8b28-438a-b262-20edfd21fb51"
      },
      "execution_count": 2,
      "outputs": [
        {
          "output_type": "stream",
          "name": "stdout",
          "text": [
            "Drive already mounted at /content/Drive; to attempt to forcibly remount, call drive.mount(\"/content/Drive\", force_remount=True).\n"
          ]
        }
      ]
    },
    {
      "cell_type": "code",
      "source": [
        "#DECLARING THE CONSTANTS\n",
        "text = \"Hello there! My name is Phil. I have been an online English tutor for almost three years now. I've been helping students from beginner to advanced level improve their English skills. I've tried teaching kids and adults. I used CPR. Look! Rewards! And many more! I would love to help you improve and make progress in learning. From phonics, grammar, pronunciation and up to conversational English. I've already earned my Tassel and Tia Felt certificate, so you're in good hands. Learn with me and let's make English a fun and easy language. See ya!\""
      ],
      "metadata": {
        "id": "489j81cugNco"
      },
      "execution_count": 3,
      "outputs": []
    },
    {
      "cell_type": "markdown",
      "source": [
        "In this code, I have translated Text from English to Spanish But it has the capability to translate in almost all languages."
      ],
      "metadata": {
        "id": "EoRF3Xs86OdU"
      }
    },
    {
      "cell_type": "markdown",
      "source": [
        "##Translating Text to Spanish using Google Translate"
      ],
      "metadata": {
        "id": "mmO6rbsDD-Dh"
      }
    },
    {
      "cell_type": "code",
      "source": [
        "# Installing the 'easygoogletranslate' library\n",
        "!pip install easygoogletranslate"
      ],
      "metadata": {
        "colab": {
          "base_uri": "https://localhost:8080/"
        },
        "id": "YB81gNR53rvI",
        "outputId": "2079d5fc-e158-48dd-bc9d-129cea3a0e60"
      },
      "execution_count": 4,
      "outputs": [
        {
          "output_type": "stream",
          "name": "stdout",
          "text": [
            "Requirement already satisfied: easygoogletranslate in /usr/local/lib/python3.10/dist-packages (0.0.4)\n",
            "Requirement already satisfied: requests>=2.26.0 in /usr/local/lib/python3.10/dist-packages (from easygoogletranslate) (2.31.0)\n",
            "Requirement already satisfied: charset-normalizer<4,>=2 in /usr/local/lib/python3.10/dist-packages (from requests>=2.26.0->easygoogletranslate) (3.3.0)\n",
            "Requirement already satisfied: idna<4,>=2.5 in /usr/local/lib/python3.10/dist-packages (from requests>=2.26.0->easygoogletranslate) (3.4)\n",
            "Requirement already satisfied: urllib3<3,>=1.21.1 in /usr/local/lib/python3.10/dist-packages (from requests>=2.26.0->easygoogletranslate) (2.0.7)\n",
            "Requirement already satisfied: certifi>=2017.4.17 in /usr/local/lib/python3.10/dist-packages (from requests>=2.26.0->easygoogletranslate) (2023.7.22)\n"
          ]
        }
      ]
    },
    {
      "cell_type": "code",
      "source": [
        "# Importing required modules\n",
        "from easygoogletranslate import EasyGoogleTranslate\n",
        "\n",
        "start_time = time.time()\n",
        "\n",
        "translator = EasyGoogleTranslate(\n",
        "    source_language='en',\n",
        "    target_language='hi',\n",
        "    timeout=10\n",
        ")\n",
        "# Enter the text to be translated\n",
        "result = translator.translate(text)\n",
        "\n",
        "print(result)\n",
        "print(\"Google Translate : %s seconds\" % (time.time() - start_time))"
      ],
      "metadata": {
        "colab": {
          "base_uri": "https://localhost:8080/"
        },
        "id": "nA9RG_GR3ZfD",
        "outputId": "89ca78e9-274a-4767-a6c8-d7664f234832"
      },
      "execution_count": 5,
      "outputs": [
        {
          "output_type": "stream",
          "name": "stdout",
          "text": [
            "नमस्ते! मेरा नाम फिल है. मैं अब लगभग तीन वर्षों से ऑनलाइन अंग्रेजी ट्यूटर हूं। मैं शुरुआती से लेकर उन्नत स्तर तक के छात्रों को उनके अंग्रेजी कौशल को बेहतर बनाने में मदद कर रहा हूं। मैंने बच्चों और वयस्कों को पढ़ाने की कोशिश की है। मैंने सीपीआर का उपयोग किया। देखना! पुरस्कार! और भी कई! मुझे सीखने में सुधार करने और प्रगति करने में आपकी मदद करने में खुशी होगी। ध्वन्यात्मकता, व्याकरण, उच्चारण से लेकर बोलचाल की अंग्रेजी तक। मैंने पहले ही अपना टैसल और टिया फेल्ट प्रमाणपत्र अर्जित कर लिया है, इसलिए आप अच्छे हाथों में हैं। मेरे साथ सीखें और आइए अंग्रेजी को एक मज़ेदार और आसान भाषा बनाएं। फिर मिलेंगे!\n",
            "Google Translate : 0.21838736534118652 seconds\n"
          ]
        }
      ]
    },
    {
      "cell_type": "markdown",
      "source": [
        "##Translating Text to Spanish using Azure AI Translator"
      ],
      "metadata": {
        "id": "FPn55iJzEQ7k"
      }
    },
    {
      "cell_type": "code",
      "source": [
        "# Install the 'requests' and 'uuid' libraries\n",
        "!pip install requests uuid"
      ],
      "metadata": {
        "colab": {
          "base_uri": "https://localhost:8080/"
        },
        "id": "w0dZrIteLS1K",
        "outputId": "7dda1f60-0c1f-4d88-9c38-d6c7e0e922a8"
      },
      "execution_count": 6,
      "outputs": [
        {
          "output_type": "stream",
          "name": "stdout",
          "text": [
            "Requirement already satisfied: requests in /usr/local/lib/python3.10/dist-packages (2.31.0)\n",
            "Requirement already satisfied: uuid in /usr/local/lib/python3.10/dist-packages (1.30)\n",
            "Requirement already satisfied: charset-normalizer<4,>=2 in /usr/local/lib/python3.10/dist-packages (from requests) (3.3.0)\n",
            "Requirement already satisfied: idna<4,>=2.5 in /usr/local/lib/python3.10/dist-packages (from requests) (3.4)\n",
            "Requirement already satisfied: urllib3<3,>=1.21.1 in /usr/local/lib/python3.10/dist-packages (from requests) (2.0.7)\n",
            "Requirement already satisfied: certifi>=2017.4.17 in /usr/local/lib/python3.10/dist-packages (from requests) (2023.7.22)\n"
          ]
        }
      ]
    },
    {
      "cell_type": "code",
      "source": [
        "# Import required modules\n",
        "import requests\n",
        "import uuid\n",
        "\n",
        "# Define your Azure Cognitive Services Translator API credentials and configuration\n",
        "key = \"ENTER_YOUR_API_KEY\"\n",
        "endpoint = \"https://api.cognitive.microsofttranslator.com/\"\n",
        "\n",
        "# Define the Azure region\n",
        "location = \"westus2\"\n",
        "\n",
        "# Define the API path for translation\n",
        "path = '/translate'\n",
        "constructed_url = endpoint + path\n",
        "\n",
        "# Define parameters\n",
        "params = {\n",
        "    'api-version': '3.0',\n",
        "    'from': 'en',\n",
        "    'to': ['hi']\n",
        "}\n",
        "\n",
        "# Define request headers\n",
        "headers = {\n",
        "    'Ocp-Apim-Subscription-Key': key,\n",
        "    'Ocp-Apim-Subscription-Region': location,\n",
        "    'Content-type': 'application/json',\n",
        "    'X-ClientTraceId': str(uuid.uuid4())\n",
        "}\n",
        "\n",
        "# Define the text to be translated\n",
        "body = [{\n",
        "    'text': text\n",
        "}]\n",
        "\n",
        "start_time = time.time()\n",
        "# Make a POST request\n",
        "request = requests.post(constructed_url, params=params, headers=headers, json=body)\n",
        "\n",
        "response = request.json()\n",
        "\n",
        "translation = response[0]['translations'][0]['text']\n",
        "\n",
        "print(translation)\n",
        "\n",
        "print(\"Azure AI Translator: %s seconds\" % (time.time() - start_time))\n"
      ],
      "metadata": {
        "colab": {
          "base_uri": "https://localhost:8080/"
        },
        "id": "Arux7jYa9N9I",
        "outputId": "0311534e-f891-4dc9-d0da-6b284f9788f6"
      },
      "execution_count": 10,
      "outputs": [
        {
          "output_type": "stream",
          "name": "stdout",
          "text": [
            "आपको नमस्कार! मेरा नाम फिल है। मैं लगभग तीन साल से एक ऑनलाइन अंग्रेजी ट्यूटर रहा हूं। मैं शुरुआती से उन्नत स्तर तक के छात्रों को अपने अंग्रेजी कौशल में सुधार करने में मदद कर रहा हूं। मैंने बच्चों और वयस्कों को पढ़ाने की कोशिश की है। मैंने सीपीआर का इस्तेमाल किया। देखो! पुरस्कार! और भी कई! मैं आपको सीखने में सुधार करने और प्रगति करने में मदद करना पसंद करूंगा। फोनिक्स, व्याकरण, उच्चारण और संवादात्मक अंग्रेजी तक। मैंने पहले से ही अपना टैसेल और टिया फेल्ट प्रमाण पत्र अर्जित किया है, इसलिए आप अच्छे हाथों में हैं। मेरे साथ सीखें और अंग्रेजी को एक मजेदार और आसान भाषा बनाएं। बाद में मिलेंगे!\n",
            "Azure AI Translator: 0.5535500049591064 seconds\n"
          ]
        }
      ]
    },
    {
      "cell_type": "markdown",
      "source": [
        "##Translating Text to Spanish using MyMemory"
      ],
      "metadata": {
        "id": "xbBHljNvejHG"
      }
    },
    {
      "cell_type": "code",
      "source": [
        "# Install the 'mtranslate' library\n",
        "!pip install mtranslate"
      ],
      "metadata": {
        "colab": {
          "base_uri": "https://localhost:8080/"
        },
        "id": "-vj5XkYMtYzR",
        "outputId": "2b224f45-689d-4867-8522-fcc72a6837c8"
      },
      "execution_count": 11,
      "outputs": [
        {
          "output_type": "stream",
          "name": "stdout",
          "text": [
            "Collecting mtranslate\n",
            "  Downloading mtranslate-1.8.tar.gz (2.4 kB)\n",
            "  Preparing metadata (setup.py) ... \u001b[?25l\u001b[?25hdone\n",
            "Building wheels for collected packages: mtranslate\n",
            "  Building wheel for mtranslate (setup.py) ... \u001b[?25l\u001b[?25hdone\n",
            "  Created wheel for mtranslate: filename=mtranslate-1.8-py3-none-any.whl size=3672 sha256=98d1ddb17e723ce4de909db6023e81bed833e6477ca505d92845337ce303a947\n",
            "  Stored in directory: /root/.cache/pip/wheels/c2/04/15/d7654c2c4a9a52e09922967593f3278fed66059be65ca671ea\n",
            "Successfully built mtranslate\n",
            "Installing collected packages: mtranslate\n",
            "Successfully installed mtranslate-1.8\n"
          ]
        }
      ]
    },
    {
      "cell_type": "code",
      "source": [
        "# Import the 'mtranslate' library\n",
        "from mtranslate import translate\n",
        "\n",
        "start_time = time.time()\n",
        "\n",
        "def translate_to_spanish(text):\n",
        "    try:\n",
        "        translated_text = translate(text, 'hi', 'en')\n",
        "        return translated_text\n",
        "    except Exception as e:\n",
        "        return f\"Translation error: {str(e)}\"\n",
        "\n",
        "if __name__ == \"__main__\":\n",
        "    # Define the text to be translated\n",
        "    text_to_translate = text\n",
        "    translated_text = translate_to_spanish(text_to_translate)\n",
        "    print(translated_text)\n",
        "\n",
        "\n",
        "print(\"MyMemory : %s seconds\" % (time.time() - start_time))"
      ],
      "metadata": {
        "colab": {
          "base_uri": "https://localhost:8080/"
        },
        "id": "Ft-xGTgjtd1u",
        "outputId": "a1489906-ac30-42df-92c0-864e4c65afb5"
      },
      "execution_count": 12,
      "outputs": [
        {
          "output_type": "stream",
          "name": "stdout",
          "text": [
            "नमस्ते! मेरा नाम फिल है. मैं अब लगभग तीन वर्षों से ऑनलाइन अंग्रेजी ट्यूटर हूं। मैं शुरुआती से लेकर उन्नत स्तर तक के छात्रों को उनके अंग्रेजी कौशल को बेहतर बनाने में मदद कर रहा हूं। मैंने बच्चों और वयस्कों को पढ़ाने की कोशिश की है। मैंने सीपीआर का उपयोग किया। देखना! पुरस्कार! और भी कई! मुझे सीखने में सुधार करने और प्रगति करने में आपकी मदद करने में खुशी होगी। ध्वन्यात्मकता, व्याकरण, उच्चारण से लेकर बोलचाल की अंग्रेजी तक। मैंने पहले ही अपना टैसल और टिया फेल्ट प्रमाणपत्र अर्जित कर लिया है, इसलिए आप अच्छे हाथों में हैं। मेरे साथ सीखें और आइए अंग्रेजी को एक मज़ेदार और आसान भाषा बनाएं। फिर मिलेंगे!\n",
            "MyMemory : 0.14168071746826172 seconds\n"
          ]
        }
      ]
    },
    {
      "cell_type": "markdown",
      "source": [
        "### Time Taken to Translate by Different models\n",
        "\n",
        "| Model    | Time of Execution (in sec)|\n",
        "| :---        |    :----:   \n",
        "| Google Translate   | 0.21    |\n",
        "| Azure AI Translator | 0.55     |\n",
        "| MyMemory  | 0.14        |"
      ],
      "metadata": {
        "id": "S_du85rC6qOV"
      }
    }
  ]
}