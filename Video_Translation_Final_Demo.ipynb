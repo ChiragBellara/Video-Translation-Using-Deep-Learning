{
  "cells": [
    {
      "cell_type": "markdown",
      "metadata": {
        "id": "R9D4A5RtdOiz"
      },
      "source": [
        "#####The UI used for this application is taken from Argon Design System"
      ]
    },
    {
      "cell_type": "code",
      "execution_count": null,
      "metadata": {
        "colab": {
          "base_uri": "https://localhost:8080/"
        },
        "id": "Gz1F3x9O2tId",
        "outputId": "9737e2e9-19e7-411b-d13b-3b4298a71567"
      },
      "outputs": [
        {
          "name": "stdout",
          "output_type": "stream",
          "text": [
            "ffmpeg is already the newest version (7:4.4.2-0ubuntu0.22.04.1).\n",
            "0 upgraded, 0 newly installed, 0 to remove and 15 not upgraded.\n",
            "  Installing build dependencies ... \u001b[?25l\u001b[?25hdone\n",
            "  Getting requirements to build wheel ... \u001b[?25l\u001b[?25hdone\n",
            "  Preparing metadata (pyproject.toml) ... \u001b[?25l\u001b[?25hdone\n",
            "\u001b[2K     \u001b[90m━━━━━━━━━━━━━━━━━━━━━━━━━━━━━━━━━━━━━━━━\u001b[0m \u001b[32m2.0/2.0 MB\u001b[0m \u001b[31m22.1 MB/s\u001b[0m eta \u001b[36m0:00:00\u001b[0m\n",
            "\u001b[?25h  Building wheel for openai-whisper (pyproject.toml) ... \u001b[?25l\u001b[?25hdone\n",
            "\u001b[31mERROR: pip's dependency resolver does not currently take into account all the packages that are installed. This behaviour is the source of the following dependency conflicts.\n",
            "llmx 0.0.15a0 requires cohere, which is not installed.\n",
            "llmx 0.0.15a0 requires openai, which is not installed.\u001b[0m\u001b[31m\n",
            "\u001b[0m  Preparing metadata (setup.py) ... \u001b[?25l\u001b[?25hdone\n",
            "  Building wheel for pyngrok (setup.py) ... \u001b[?25l\u001b[?25hdone\n",
            "\u001b[2K     \u001b[90m━━━━━━━━━━━━━━━━━━━━━━━━━━━━━━━━━━━━━━━━\u001b[0m \u001b[32m3.1/3.1 MB\u001b[0m \u001b[31m37.3 MB/s\u001b[0m eta \u001b[36m0:00:00\u001b[0m\n",
            "\u001b[2K     \u001b[90m━━━━━━━━━━━━━━━━━━━━━━━━━━━━━━━━━━━━━━━━\u001b[0m \u001b[32m194.4/194.4 kB\u001b[0m \u001b[31m28.7 MB/s\u001b[0m eta \u001b[36m0:00:00\u001b[0m\n",
            "\u001b[2K     \u001b[90m━━━━━━━━━━━━━━━━━━━━━━━━━━━━━━━━━━━━━━━━\u001b[0m \u001b[32m2.1/2.1 MB\u001b[0m \u001b[31m87.8 MB/s\u001b[0m eta \u001b[36m0:00:00\u001b[0m\n",
            "\u001b[2K     \u001b[90m━━━━━━━━━━━━━━━━━━━━━━━━━━━━━━━━━━━━━━━━\u001b[0m \u001b[32m130.2/130.2 kB\u001b[0m \u001b[31m20.0 MB/s\u001b[0m eta \u001b[36m0:00:00\u001b[0m\n",
            "\u001b[2K     \u001b[90m━━━━━━━━━━━━━━━━━━━━━━━━━━━━━━━━━━━━━━━━\u001b[0m \u001b[32m3.0/3.0 MB\u001b[0m \u001b[31m101.4 MB/s\u001b[0m eta \u001b[36m0:00:00\u001b[0m\n",
            "\u001b[?25h"
          ]
        }
      ],
      "source": [
        "!sudo apt -qq install ffmpeg\n",
        "!pip install git+https://github.com/openai/whisper.git -qq\n",
        "!pip install pydub -qq\n",
        "!pip install flask -qq\n",
        "!pip install flask_cors -qq\n",
        "!pip install flask-ngrok -qq\n",
        "!pip install pyngrok==4.1.1 -qq\n",
        "!pip install yt_dlp -qq\n",
        "!pip install soundfile -qq"
      ]
    },
    {
      "cell_type": "code",
      "execution_count": null,
      "metadata": {
        "colab": {
          "base_uri": "https://localhost:8080/"
        },
        "id": "h7PYLbhKhF1u",
        "outputId": "5bf8dcc5-d229-471a-9289-00a4454d389c"
      },
      "outputs": [
        {
          "name": "stdout",
          "output_type": "stream",
          "text": [
            "Cloning into 'TTS'...\n",
            "remote: Enumerating objects: 32550, done.\u001b[K\n",
            "remote: Counting objects: 100% (5181/5181), done.\u001b[K\n",
            "remote: Compressing objects: 100% (854/854), done.\u001b[K\n",
            "remote: Total 32550 (delta 4697), reused 4467 (delta 4297), pack-reused 27369\u001b[K\n",
            "Receiving objects: 100% (32550/32550), 166.13 MiB | 15.11 MiB/s, done.\n",
            "Resolving deltas: 100% (23615/23615), done.\n",
            "/content/TTS\n",
            "Selecting previously unselected package libportaudio2:amd64.\n",
            "(Reading database ... 120882 files and directories currently installed.)\n",
            "Preparing to unpack .../libportaudio2_19.6.0-1.1_amd64.deb ...\n",
            "Unpacking libportaudio2:amd64 (19.6.0-1.1) ...\n",
            "Selecting previously unselected package libsonic0:amd64.\n",
            "Preparing to unpack .../libsonic0_0.2.0-11build1_amd64.deb ...\n",
            "Unpacking libsonic0:amd64 (0.2.0-11build1) ...\n",
            "Selecting previously unselected package espeak-data:amd64.\n",
            "Preparing to unpack .../espeak-data_1.48.15+dfsg-3_amd64.deb ...\n",
            "Unpacking espeak-data:amd64 (1.48.15+dfsg-3) ...\n",
            "Selecting previously unselected package libespeak1:amd64.\n",
            "Preparing to unpack .../libespeak1_1.48.15+dfsg-3_amd64.deb ...\n",
            "Unpacking libespeak1:amd64 (1.48.15+dfsg-3) ...\n",
            "Selecting previously unselected package espeak.\n",
            "Preparing to unpack .../espeak_1.48.15+dfsg-3_amd64.deb ...\n",
            "Unpacking espeak (1.48.15+dfsg-3) ...\n",
            "Setting up libportaudio2:amd64 (19.6.0-1.1) ...\n",
            "Setting up libsonic0:amd64 (0.2.0-11build1) ...\n",
            "Setting up espeak-data:amd64 (1.48.15+dfsg-3) ...\n",
            "Setting up libespeak1:amd64 (1.48.15+dfsg-3) ...\n",
            "Setting up espeak (1.48.15+dfsg-3) ...\n",
            "Processing triggers for man-db (2.10.2-1) ...\n",
            "Processing triggers for libc-bin (2.35-0ubuntu3.4) ...\n",
            "/sbin/ldconfig.real: /usr/local/lib/libtbbbind.so.3 is not a symbolic link\n",
            "\n",
            "/sbin/ldconfig.real: /usr/local/lib/libtbbbind_2_0.so.3 is not a symbolic link\n",
            "\n",
            "/sbin/ldconfig.real: /usr/local/lib/libtbbmalloc_proxy.so.2 is not a symbolic link\n",
            "\n",
            "/sbin/ldconfig.real: /usr/local/lib/libtbbbind_2_5.so.3 is not a symbolic link\n",
            "\n",
            "/sbin/ldconfig.real: /usr/local/lib/libtbb.so.12 is not a symbolic link\n",
            "\n",
            "/sbin/ldconfig.real: /usr/local/lib/libtbbmalloc.so.2 is not a symbolic link\n",
            "\n",
            "  Installing build dependencies ... \u001b[?25l\u001b[?25hdone\n",
            "  Checking if build backend supports build_editable ... \u001b[?25l\u001b[?25hdone\n",
            "  Getting requirements to build editable ... \u001b[?25l\u001b[?25hdone\n",
            "  Preparing editable metadata (pyproject.toml) ... \u001b[?25l\u001b[?25hdone\n",
            "\u001b[2K     \u001b[90m━━━━━━━━━━━━━━━━━━━━━━━━━━━━━━━━━━━━━━━━\u001b[0m \u001b[32m10.8/10.8 MB\u001b[0m \u001b[31m68.9 MB/s\u001b[0m eta \u001b[36m0:00:00\u001b[0m\n",
            "\u001b[2K     \u001b[90m━━━━━━━━━━━━━━━━━━━━━━━━━━━━━━━━━━━━━━━━\u001b[0m \u001b[32m289.9/289.9 kB\u001b[0m \u001b[31m33.1 MB/s\u001b[0m eta \u001b[36m0:00:00\u001b[0m\n",
            "\u001b[2K     \u001b[90m━━━━━━━━━━━━━━━━━━━━━━━━━━━━━━━━━━━━━━━━\u001b[0m \u001b[32m71.1/71.1 kB\u001b[0m \u001b[31m9.8 MB/s\u001b[0m eta \u001b[36m0:00:00\u001b[0m\n",
            "\u001b[2K     \u001b[90m━━━━━━━━━━━━━━━━━━━━━━━━━━━━━━━━━━━━━━━━\u001b[0m \u001b[32m90.9/90.9 kB\u001b[0m \u001b[31m12.1 MB/s\u001b[0m eta \u001b[36m0:00:00\u001b[0m\n",
            "\u001b[?25h  Preparing metadata (setup.py) ... \u001b[?25l\u001b[?25hdone\n",
            "\u001b[2K     \u001b[90m━━━━━━━━━━━━━━━━━━━━━━━━━━━━━━━━━━━━━━━━\u001b[0m \u001b[32m51.0/51.0 kB\u001b[0m \u001b[31m7.2 MB/s\u001b[0m eta \u001b[36m0:00:00\u001b[0m\n",
            "\u001b[2K     \u001b[90m━━━━━━━━━━━━━━━━━━━━━━━━━━━━━━━━━━━━━━━━\u001b[0m \u001b[32m1.4/1.4 MB\u001b[0m \u001b[31m29.6 MB/s\u001b[0m eta \u001b[36m0:00:00\u001b[0m\n",
            "\u001b[2K     \u001b[90m━━━━━━━━━━━━━━━━━━━━━━━━━━━━━━━━━━━━━━━━\u001b[0m \u001b[32m73.5/73.5 kB\u001b[0m \u001b[31m9.7 MB/s\u001b[0m eta \u001b[36m0:00:00\u001b[0m\n",
            "\u001b[?25h  Preparing metadata (setup.py) ... \u001b[?25l\u001b[?25hdone\n",
            "  Preparing metadata (setup.py) ... \u001b[?25l\u001b[?25hdone\n",
            "  Preparing metadata (setup.py) ... \u001b[?25l\u001b[?25hdone\n",
            "\u001b[2K     \u001b[90m━━━━━━━━━━━━━━━━━━━━━━━━━━━━━━━━━━━━━━━━\u001b[0m \u001b[32m44.6/44.6 kB\u001b[0m \u001b[31m6.2 MB/s\u001b[0m eta \u001b[36m0:00:00\u001b[0m\n",
            "\u001b[2K     \u001b[90m━━━━━━━━━━━━━━━━━━━━━━━━━━━━━━━━━━━━━━━━\u001b[0m \u001b[32m3.7/3.7 MB\u001b[0m \u001b[31m85.7 MB/s\u001b[0m eta \u001b[36m0:00:00\u001b[0m\n",
            "\u001b[?25h  Preparing metadata (setup.py) ... \u001b[?25l\u001b[?25hdone\n",
            "\u001b[2K     \u001b[90m━━━━━━━━━━━━━━━━━━━━━━━━━━━━━━━━━━━━━━━━\u001b[0m \u001b[32m235.5/235.5 kB\u001b[0m \u001b[31m26.3 MB/s\u001b[0m eta \u001b[36m0:00:00\u001b[0m\n",
            "\u001b[2K     \u001b[90m━━━━━━━━━━━━━━━━━━━━━━━━━━━━━━━━━━━━━━━━\u001b[0m \u001b[32m143.3/143.3 kB\u001b[0m \u001b[31m17.9 MB/s\u001b[0m eta \u001b[36m0:00:00\u001b[0m\n",
            "\u001b[2K     \u001b[90m━━━━━━━━━━━━━━━━━━━━━━━━━━━━━━━━━━━━━━━━\u001b[0m \u001b[32m16.8/16.8 MB\u001b[0m \u001b[31m66.7 MB/s\u001b[0m eta \u001b[36m0:00:00\u001b[0m\n",
            "\u001b[2K     \u001b[90m━━━━━━━━━━━━━━━━━━━━━━━━━━━━━━━━━━━━━━━━\u001b[0m \u001b[32m293.8/293.8 kB\u001b[0m \u001b[31m26.4 MB/s\u001b[0m eta \u001b[36m0:00:00\u001b[0m\n",
            "\u001b[2K     \u001b[90m━━━━━━━━━━━━━━━━━━━━━━━━━━━━━━━━━━━━━━━━\u001b[0m \u001b[32m101.6/101.6 kB\u001b[0m \u001b[31m11.3 MB/s\u001b[0m eta \u001b[36m0:00:00\u001b[0m\n",
            "\u001b[?25h  Preparing metadata (setup.py) ... \u001b[?25l\u001b[?25hdone\n",
            "\u001b[2K     \u001b[90m━━━━━━━━━━━━━━━━━━━━━━━━━━━━━━━━━━━━━━━━\u001b[0m \u001b[32m15.2/15.2 MB\u001b[0m \u001b[31m75.8 MB/s\u001b[0m eta \u001b[36m0:00:00\u001b[0m\n",
            "\u001b[?25h  Preparing metadata (setup.py) ... \u001b[?25l\u001b[?25hdone\n",
            "\u001b[2K     \u001b[90m━━━━━━━━━━━━━━━━━━━━━━━━━━━━━━━━━━━━━━━━\u001b[0m \u001b[32m2.0/2.0 MB\u001b[0m \u001b[31m105.1 MB/s\u001b[0m eta \u001b[36m0:00:00\u001b[0m\n",
            "\u001b[2K     \u001b[90m━━━━━━━━━━━━━━━━━━━━━━━━━━━━━━━━━━━━━━━━\u001b[0m \u001b[32m993.5/993.5 kB\u001b[0m \u001b[31m75.2 MB/s\u001b[0m eta \u001b[36m0:00:00\u001b[0m\n",
            "\u001b[2K     \u001b[90m━━━━━━━━━━━━━━━━━━━━━━━━━━━━━━━━━━━━━━━━\u001b[0m \u001b[32m10.9/10.9 MB\u001b[0m \u001b[31m16.1 MB/s\u001b[0m eta \u001b[36m0:00:00\u001b[0m\n",
            "\u001b[?25h  Preparing metadata (setup.py) ... \u001b[?25l\u001b[?25hdone\n",
            "\u001b[2K     \u001b[90m━━━━━━━━━━━━━━━━━━━━━━━━━━━━━━━━━━━━━━━━\u001b[0m \u001b[32m18.1/18.1 MB\u001b[0m \u001b[31m61.7 MB/s\u001b[0m eta \u001b[36m0:00:00\u001b[0m\n",
            "\u001b[?25h  Preparing metadata (setup.py) ... \u001b[?25l\u001b[?25hdone\n",
            "\u001b[2K     \u001b[90m━━━━━━━━━━━━━━━━━━━━━━━━━━━━━━━━━━━━━━━━\u001b[0m \u001b[32m31.4/31.4 MB\u001b[0m \u001b[31m12.4 MB/s\u001b[0m eta \u001b[36m0:00:00\u001b[0m\n",
            "\u001b[?25h  Preparing metadata (setup.py) ... \u001b[?25l\u001b[?25hdone\n",
            "\u001b[2K     \u001b[90m━━━━━━━━━━━━━━━━━━━━━━━━━━━━━━━━━━━━━━━━\u001b[0m \u001b[32m253.0/253.0 kB\u001b[0m \u001b[31m32.7 MB/s\u001b[0m eta \u001b[36m0:00:00\u001b[0m\n",
            "\u001b[2K     \u001b[90m━━━━━━━━━━━━━━━━━━━━━━━━━━━━━━━━━━━━━━━━\u001b[0m \u001b[32m253.0/253.0 kB\u001b[0m \u001b[31m33.9 MB/s\u001b[0m eta \u001b[36m0:00:00\u001b[0m\n",
            "\u001b[2K     \u001b[90m━━━━━━━━━━━━━━━━━━━━━━━━━━━━━━━━━━━━━━━━\u001b[0m \u001b[32m252.9/252.9 kB\u001b[0m \u001b[31m30.1 MB/s\u001b[0m eta \u001b[36m0:00:00\u001b[0m\n",
            "\u001b[?25h  Preparing metadata (setup.py) ... \u001b[?25l\u001b[?25hdone\n",
            "\u001b[2K     \u001b[90m━━━━━━━━━━━━━━━━━━━━━━━━━━━━━━━━━━━━━━━━\u001b[0m \u001b[32m2.2/2.2 MB\u001b[0m \u001b[31m104.5 MB/s\u001b[0m eta \u001b[36m0:00:00\u001b[0m\n",
            "\u001b[2K     \u001b[90m━━━━━━━━━━━━━━━━━━━━━━━━━━━━━━━━━━━━━━━━\u001b[0m \u001b[32m71.7/71.7 MB\u001b[0m \u001b[31m9.8 MB/s\u001b[0m eta \u001b[36m0:00:00\u001b[0m\n",
            "\u001b[2K     \u001b[90m━━━━━━━━━━━━━━━━━━━━━━━━━━━━━━━━━━━━━━━━\u001b[0m \u001b[32m55.8/55.8 kB\u001b[0m \u001b[31m7.1 MB/s\u001b[0m eta \u001b[36m0:00:00\u001b[0m\n",
            "\u001b[?25h  Building editable for TTS (pyproject.toml) ... \u001b[?25l\u001b[?25hdone\n",
            "  Building wheel for encodec (setup.py) ... \u001b[?25l\u001b[?25hdone\n",
            "  Building wheel for umap-learn (setup.py) ... \u001b[?25l\u001b[?25hdone\n",
            "  Building wheel for bnnumerizer (setup.py) ... \u001b[?25l\u001b[?25hdone\n",
            "  Building wheel for bnunicodenormalizer (setup.py) ... \u001b[?25l\u001b[?25hdone\n",
            "  Building wheel for docopt (setup.py) ... \u001b[?25l\u001b[?25hdone\n",
            "  Building wheel for gruut-ipa (setup.py) ... \u001b[?25l\u001b[?25hdone\n",
            "  Building wheel for gruut_lang_de (setup.py) ... \u001b[?25l\u001b[?25hdone\n",
            "  Building wheel for gruut_lang_en (setup.py) ... \u001b[?25l\u001b[?25hdone\n",
            "  Building wheel for gruut_lang_es (setup.py) ... \u001b[?25l\u001b[?25hdone\n",
            "  Building wheel for gruut_lang_fr (setup.py) ... \u001b[?25l\u001b[?25hdone\n",
            "  Building wheel for gruut (setup.py) ... \u001b[?25l\u001b[?25hdone\n",
            "\u001b[31mERROR: pip's dependency resolver does not currently take into account all the packages that are installed. This behaviour is the source of the following dependency conflicts.\n",
            "lida 0.0.10 requires fastapi, which is not installed.\n",
            "lida 0.0.10 requires kaleido, which is not installed.\n",
            "lida 0.0.10 requires python-multipart, which is not installed.\n",
            "lida 0.0.10 requires uvicorn, which is not installed.\n",
            "plotnine 0.12.4 requires numpy>=1.23.0, but you have numpy 1.22.0 which is incompatible.\n",
            "pywavelets 1.5.0 requires numpy<2.0,>=1.22.4, but you have numpy 1.22.0 which is incompatible.\n",
            "tensorflow 2.14.0 requires numpy>=1.23.5, but you have numpy 1.22.0 which is incompatible.\u001b[0m\u001b[31m\n",
            "\u001b[0m"
          ]
        }
      ],
      "source": [
        "!git clone https://github.com/coqui-ai/TTS.git\n",
        "%cd \"/content/TTS\"\n",
        "! apt-get -qq install espeak\n",
        "! pip install -q -e ."
      ]
    },
    {
      "cell_type": "code",
      "execution_count": null,
      "metadata": {
        "id": "KM_yZmJA3XKp"
      },
      "outputs": [],
      "source": [
        "OUTPUT_VIDEO = \"/content/DownloadedVideos/downloadedVideo.mkv\"\n",
        "OUTPUT_AUDIO = \"/content/OutcomeAudios/extractedAudio.wav\"\n",
        "AUDIO_FOLDER = \"/content/OutcomeAudios/\"\n",
        "VIDEO_FOLDER = \"/content/DownloadedVideos/\"\n",
        "SAMPLING_RATE = 28000"
      ]
    },
    {
      "cell_type": "code",
      "execution_count": null,
      "metadata": {
        "colab": {
          "base_uri": "https://localhost:8080/"
        },
        "id": "M38jrljX5di7",
        "outputId": "a166dfe2-8fbd-4174-aad9-c6c0df1b3964"
      },
      "outputs": [
        {
          "name": "stderr",
          "output_type": "stream",
          "text": [
            "100%|██████████████████████████████████████| 1.42G/1.42G [00:13<00:00, 114MiB/s]\n"
          ]
        }
      ],
      "source": [
        "import whisper\n",
        "import json\n",
        "modelWhisper = whisper.load_model(\"medium\")"
      ]
    },
    {
      "cell_type": "code",
      "execution_count": null,
      "metadata": {
        "colab": {
          "base_uri": "https://localhost:8080/"
        },
        "id": "zigeSFoBhSfR",
        "outputId": "fae99b8c-465e-432f-af24-e141c32a98fd"
      },
      "outputs": [
        {
          "name": "stdout",
          "output_type": "stream",
          "text": [
            " > You must agree to the terms of service to use this model.\n",
            " | > Please see the terms of service at https://coqui.ai/cpml.txt\n",
            " | > \"I have read, understood and agreed to the Terms and Conditions.\" - [y/n]\n",
            " | | > y\n",
            " > Downloading model to /root/.local/share/tts/tts_models--multilingual--multi-dataset--xtts_v2\n"
          ]
        },
        {
          "name": "stderr",
          "output_type": "stream",
          "text": [
            "100%|█████████▉| 1.86G/1.87G [01:11<00:00, 27.7MiB/s]\n",
            "100%|██████████| 1.87G/1.87G [01:11<00:00, 26.0MiB/s]\n",
            "100%|██████████| 4.37k/4.37k [00:00<00:00, 9.75kiB/s]\n",
            "\n",
            "100%|██████████| 361k/361k [00:00<00:00, 371kiB/s]\n"
          ]
        },
        {
          "name": "stdout",
          "output_type": "stream",
          "text": [
            " > Model's license - CPML\n",
            " > Check https://coqui.ai/cpml.txt for more info.\n",
            " > Using model: xtts\n"
          ]
        }
      ],
      "source": [
        "import torch\n",
        "from TTS.api import TTS\n",
        "\n",
        "# Get device\n",
        "device = \"cuda\" if torch.cuda.is_available() else \"cpu\"\n",
        "# Init TTS\n",
        "tts = TTS(\"tts_models/multilingual/multi-dataset/xtts_v2\").to(device)"
      ]
    },
    {
      "cell_type": "code",
      "execution_count": null,
      "metadata": {
        "id": "vhYXEdHthW4M"
      },
      "outputs": [],
      "source": [
        "def convert(speech):\n",
        "  tts.tts_to_file(text=speech, speaker_wav=\"/content/OutcomeAudios/extractedAudio.wav\", language=\"en\", file_path=\"/content/OutcomeAudios/translatedAudio.wav\")\n",
        "  file_path = \"/content/OutcomeAudios/translatedAudio.wav\"\n",
        "  return file_path"
      ]
    },
    {
      "cell_type": "code",
      "execution_count": null,
      "metadata": {
        "id": "zJ-PzMuK5eJA"
      },
      "outputs": [],
      "source": [
        "#from bark import generate_audio, preload_models\n",
        "from scipy.io.wavfile import write as write_wav\n",
        "from IPython.display import Audio\n",
        "import scipy\n",
        "# download and load all models\n",
        "# preload_models()"
      ]
    },
    {
      "cell_type": "code",
      "execution_count": null,
      "metadata": {
        "id": "M3Bh51ml3boc"
      },
      "outputs": [],
      "source": [
        "import os\n",
        "\n",
        "def checkAndMakeDir(folder):\n",
        "  if os.path.exists(folder)==False:\n",
        "    os.makedirs(folder)\n",
        "\n",
        "checkAndMakeDir(AUDIO_FOLDER)\n",
        "checkAndMakeDir(VIDEO_FOLDER)"
      ]
    },
    {
      "cell_type": "code",
      "execution_count": null,
      "metadata": {
        "id": "dAw3Nf9m3hQV"
      },
      "outputs": [],
      "source": [
        "from yt_dlp import YoutubeDL\n",
        "from scipy.io.wavfile import read as read_wav\n",
        "\n",
        "def downloadVideoYT(URL):\n",
        "  if os.path.isfile(OUTPUT_VIDEO):\n",
        "      os.remove(OUTPUT_VIDEO)\n",
        "  if os.path.isfile(OUTPUT_AUDIO):\n",
        "      os.remove(OUTPUT_AUDIO)\n",
        "  ytdl_format_options = {\n",
        "    'outtmpl': OUTPUT_VIDEO,\n",
        "    'format': 'best[ext=mp4]'\n",
        "  }\n",
        "  with YoutubeDL(ytdl_format_options) as ydl:\n",
        "    ydl.download([URL])\n",
        "  print(\"Download Complete\")\n",
        "\n",
        "def extractAudio():\n",
        "  import subprocess\n",
        "  subprocess.call([\"ffmpeg\",\n",
        "                   \"-y\",\n",
        "                   \"-i\",\n",
        "                   OUTPUT_VIDEO,\n",
        "                   OUTPUT_AUDIO])\n",
        "  SAMPLING_RATE, data=read_wav(\"/content/OutcomeAudios/extractedAudio.wav\")\n",
        "  print(\"Audio Extraction Complete\")"
      ]
    },
    {
      "cell_type": "code",
      "execution_count": null,
      "metadata": {
        "id": "dKPzlvhC3qkM"
      },
      "outputs": [],
      "source": [
        "def transcription():\n",
        "  translatedText = modelWhisper.transcribe(\"/content/OutcomeAudios/extractedAudio.wav\", task = 'translate')\n",
        "  print(translatedText)\n",
        "  # json_object = json.dumps(translatedText, indent=4)\n",
        "  # with open(\"/content/outputFile.json\", \"w\") as outfile:\n",
        "  #     outfile.write(json_object)\n",
        "  return translatedText"
      ]
    },
    {
      "cell_type": "code",
      "execution_count": null,
      "metadata": {
        "id": "bV4z2tnW4EvI"
      },
      "outputs": [],
      "source": [
        "def convertToArray():\n",
        "  f = open(\"/content/outputFile.json\")\n",
        "  data = json.load(f)\n",
        "  sentences = []\n",
        "  data2 = []\n",
        "\n",
        "  for segment in data['segments']:\n",
        "    start_time = segment['start']\n",
        "    end_time = segment['end']\n",
        "    text = segment['text'].strip()\n",
        "    sentences.append(text)\n",
        "    newDict = dict(start_time = start_time, end_time = end_time, text = text)\n",
        "    data2.append(newDict)\n",
        "\n",
        "  newFile = json.dumps(data2, indent=4)\n",
        "  with open(\"/content/outputFileMain.json\", \"w\") as fileOut:\n",
        "    fileOut.write(newFile)\n",
        "\n",
        "  return sentences"
      ]
    },
    {
      "cell_type": "code",
      "execution_count": null,
      "metadata": {
        "id": "4APxUgYn6pvL"
      },
      "outputs": [],
      "source": [
        "# import soundfile as sf\n",
        "# import numpy as np\n",
        "# import nltk\n",
        "# nltk.download('punkt')\n",
        "# from bark.api import semantic_to_waveform\n",
        "# from bark.generation import generate_text_semantic\n",
        "\n",
        "# def convert(speech):\n",
        "#   sentences = nltk.sent_tokenize(speech)\n",
        "#   SPEAKER = \"v2/en_speaker_3\"\n",
        "#   GEN_TEMP = 0.8\n",
        "#   silence = np.zeros(int(0.25 * SAMPLING_RATE))  # quarter second of silence\n",
        "#   pieces = []\n",
        "#   for sentence in sentences:\n",
        "#     semantic_tokens = generate_text_semantic(\n",
        "#         sentence, #Tokenized sentence\n",
        "#         history_prompt=SPEAKER, #speaker model\n",
        "#         temp=GEN_TEMP, #Threshold for randomness in generated voice\n",
        "#         min_eos_p=0.05,  # this controls how likely the generation is to end\n",
        "#     )\n",
        "#     audio_array = semantic_to_waveform(semantic_tokens, history_prompt=SPEAKER,)\n",
        "#     pieces += [audio_array, silence.copy()]\n",
        "\n",
        "#   final_piece=np.concatenate(pieces)\n",
        "#   sf.write(\"output_audio.wav\", final_piece, SAMPLING_RATE)\n",
        "#   # Get the full path to the saved file\n",
        "#   file_path = os.path.abspath(\"output_audio.wav\")\n",
        "#   return file_path"
      ]
    },
    {
      "cell_type": "code",
      "execution_count": null,
      "metadata": {
        "id": "DQm7xGiR8YwA"
      },
      "outputs": [],
      "source": [
        "from pydub import AudioSegment, silence\n",
        "from pydub.playback import play\n",
        "\n",
        "def createFinalAudio(audioSegment):\n",
        "  myaudio = intro = AudioSegment.from_wav(\"/content/OutcomeAudios/extractedAudio.wav\")\n",
        "  dBFS=myaudio.dBFS\n",
        "  silenceOut = silence.detect_silence(myaudio, min_silence_len=1000, silence_thresh=dBFS-16)\n",
        "\n",
        "  finalAudio = AudioSegment.silent(duration = silenceOut[0][1])\n",
        "  song = AudioSegment.from_wav(audioSegment)\n",
        "  finalAudio += song\n",
        "\n",
        "  finalFilePath = \"/content/OutcomeAudios/translatedAudioWithSilence.wav\"\n",
        "  finalAudio.export(finalFilePath, format=\"wav\")\n",
        "  return finalFilePath"
      ]
    },
    {
      "cell_type": "code",
      "execution_count": null,
      "metadata": {
        "id": "0qdDpTgW9mYq"
      },
      "outputs": [],
      "source": [
        "import subprocess\n",
        "\n",
        "def addAudioBackToVideo(audio_path, video_path, output_video_path):\n",
        "  subprocess.run(f\"ffmpeg -i {video_path} -i {audio_path} -c:v copy -map 0:v:0 -map 1:a:0 {output_video_path}\", shell=True)"
      ]
    },
    {
      "cell_type": "code",
      "execution_count": null,
      "metadata": {
        "id": "YWUcpLZ--cUm"
      },
      "outputs": [],
      "source": [
        "# VIDEO = \"https://www.youtube.com/watch?v=xAEyTzNfqnM\"\n",
        "# downloadVideoYT(VIDEO)\n",
        "# extractAudio()\n",
        "# print(SAMPLING_RATE)\n",
        "# translatedText = transcription()\n",
        "# print(translatedText)\n",
        "# print(\"TRANSCRIPTION COMPLETE!\")\n",
        "# translatedArray = convertToArray()\n",
        "# audioSegment = convert(translatedText)\n",
        "# print(\"GENERATING AUDIO COMPLETE!\")\n",
        "# finalAudioPath = createFinalAudio(audioSegment)\n",
        "# print(finalAudioPath)\n",
        "# addAudioBackToVideo(audio_path=\"/content/FinalAudio.wav\",\n",
        "#                      video_path=\"/content/DownloadedVideos/downloadedVideo.mkv\",\n",
        "#                      output_video_path=\"/content/static/translatedVideoFinal.mkv\")\n",
        "# print(\"COMPLETE!\")"
      ]
    },
    {
      "cell_type": "code",
      "execution_count": null,
      "metadata": {
        "colab": {
          "base_uri": "https://localhost:8080/"
        },
        "id": "sESgiIa2txDx",
        "outputId": "1ef47cfc-64d0-49a2-a91e-3e9af53fb436"
      },
      "outputs": [
        {
          "name": "stdout",
          "output_type": "stream",
          "text": [
            "Authtoken saved to configuration file: /root/.ngrok2/ngrok.yml\n"
          ]
        }
      ],
      "source": [
        "!ngrok authtoken <NGROCK AUTH TOKEN>\n",
        "# See https://dashboard.ngrok.com/get-started/setup to generate the Auth Token"
      ]
    },
    {
      "cell_type": "code",
      "execution_count": null,
      "metadata": {
        "id": "7p8ac356mY6a"
      },
      "outputs": [],
      "source": [
        "checkAndMakeDir('/content/templates')\n",
        "checkAndMakeDir('/content/static')"
      ]
    },
    {
      "cell_type": "code",
      "execution_count": null,
      "metadata": {
        "id": "RWvaattHoIv7"
      },
      "outputs": [],
      "source": [
        "from google.colab import files\n",
        "# Upload Assets.zip\n",
        "%cd /content/\n",
        "uploaded = files.upload()\n",
        "%cd /content/static/\n",
        "!unzip /content/assets.zip\n",
        "%cd /content/"
      ]
    },
    {
      "cell_type": "code",
      "execution_count": null,
      "metadata": {
        "colab": {
          "base_uri": "https://localhost:8080/"
        },
        "id": "Qoar0x9mQKiN",
        "outputId": "21d66335-e6e8-4114-9454-39825e60fffb"
      },
      "outputs": [
        {
          "name": "stdout",
          "output_type": "stream",
          "text": [
            "/content\n",
            " * Serving Flask app '__main__'\n",
            " * Debug mode: off\n"
          ]
        },
        {
          "name": "stderr",
          "output_type": "stream",
          "text": [
            "INFO:werkzeug:\u001b[31m\u001b[1mWARNING: This is a development server. Do not use it in a production deployment. Use a production WSGI server instead.\u001b[0m\n",
            " * Running on http://127.0.0.1:5000\n",
            "INFO:werkzeug:\u001b[33mPress CTRL+C to quit\u001b[0m\n"
          ]
        },
        {
          "name": "stdout",
          "output_type": "stream",
          "text": [
            " * Running on http://aa6f-34-87-72-154.ngrok-free.app\n",
            " * Traffic stats available on http://127.0.0.1:4040\n"
          ]
        },
        {
          "name": "stderr",
          "output_type": "stream",
          "text": [
            "INFO:werkzeug:127.0.0.1 - - [04/Dec/2023 07:20:51] \"GET / HTTP/1.1\" 200 -\n",
            "INFO:werkzeug:127.0.0.1 - - [04/Dec/2023 07:20:52] \"GET /static/assets/css/nucleo-icons.css HTTP/1.1\" 200 -\n",
            "INFO:werkzeug:127.0.0.1 - - [04/Dec/2023 07:20:52] \"GET /static/assets/css/nucleo-svg.css HTTP/1.1\" 200 -\n",
            "INFO:werkzeug:127.0.0.1 - - [04/Dec/2023 07:20:52] \"GET /static/assets/css/font-awesome.css HTTP/1.1\" 200 -\n",
            "INFO:werkzeug:127.0.0.1 - - [04/Dec/2023 07:20:52] \"GET /static/assets/css/argon-design-system.css HTTP/1.1\" 200 -\n",
            "INFO:werkzeug:127.0.0.1 - - [04/Dec/2023 07:20:52] \"GET /static/assets/img/brand/blue.png HTTP/1.1\" 200 -\n",
            "INFO:werkzeug:127.0.0.1 - - [04/Dec/2023 07:20:52] \"GET /static/assets/img/brand/white.png HTTP/1.1\" 200 -\n",
            "INFO:werkzeug:127.0.0.1 - - [04/Dec/2023 07:20:58] \"GET /static/assets/fonts/fontawesome-webfont.woff2?v=4.7.0 HTTP/1.1\" 200 -\n",
            "INFO:werkzeug:127.0.0.1 - - [04/Dec/2023 07:20:58] \"GET /static/assets/fonts/nucleo-icons.woff2 HTTP/1.1\" 200 -\n",
            "INFO:werkzeug:127.0.0.1 - - [04/Dec/2023 07:20:58] \"GET /static/assets/img/favicon.png HTTP/1.1\" 200 -\n",
            "INFO:werkzeug:127.0.0.1 - - [04/Dec/2023 07:21:01] \"GET /translate HTTP/1.1\" 200 -\n",
            "INFO:werkzeug:127.0.0.1 - - [04/Dec/2023 07:21:01] \"\u001b[36mGET /static/assets/css/nucleo-icons.css HTTP/1.1\u001b[0m\" 304 -\n",
            "INFO:werkzeug:127.0.0.1 - - [04/Dec/2023 07:21:01] \"\u001b[36mGET /static/assets/img/brand/blue.png HTTP/1.1\u001b[0m\" 304 -\n",
            "INFO:werkzeug:127.0.0.1 - - [04/Dec/2023 07:21:01] \"\u001b[36mGET /static/assets/css/argon-design-system.css HTTP/1.1\u001b[0m\" 304 -\n",
            "INFO:werkzeug:127.0.0.1 - - [04/Dec/2023 07:21:01] \"\u001b[36mGET /static/assets/css/nucleo-svg.css HTTP/1.1\u001b[0m\" 304 -\n",
            "INFO:werkzeug:127.0.0.1 - - [04/Dec/2023 07:21:01] \"\u001b[36mGET /static/assets/css/font-awesome.css HTTP/1.1\u001b[0m\" 304 -\n"
          ]
        },
        {
          "name": "stdout",
          "output_type": "stream",
          "text": [
            "[youtube] Extracting URL: https://www.youtube.com/shorts/6f-_j_BSUwY\n",
            "[youtube] 6f-_j_BSUwY: Downloading webpage\n",
            "[youtube] 6f-_j_BSUwY: Downloading ios player API JSON\n",
            "[youtube] 6f-_j_BSUwY: Downloading android player API JSON\n",
            "[youtube] 6f-_j_BSUwY: Downloading m3u8 information\n",
            "[info] 6f-_j_BSUwY: Downloading 1 format(s): 22\n",
            "[download] Destination: /content/DownloadedVideos/downloadedVideo.mkv\n",
            "[download] 100% of    4.46MiB in 00:00:00 at 11.81MiB/s  \n",
            "Download Complete\n",
            "Audio Extraction Complete\n",
            "{'text': \" Last question, do you speak Japanese? I can speak a little. How did you learn Japanese? I went to a Japanese language school. What's the difference between someone who can speak Japanese and someone who can't? You go to school and what do you do after that? You go to school and spend 4 hours with someone who can speak English. Don't play with that person. Sorry, I meant in English. Force yourself to hang out with Japanese people. You put yourself in the situation that you need to speak Japanese.\", 'segments': [{'id': 0, 'seek': 0, 'start': 0.0, 'end': 2.32, 'text': ' Last question, do you speak Japanese?', 'tokens': [50364, 5264, 1168, 11, 360, 291, 1710, 5433, 30, 50480], 'temperature': 0.0, 'avg_logprob': -0.4972143340529057, 'compression_ratio': 1.8270042194092826, 'no_speech_prob': 0.15091025829315186}, {'id': 1, 'seek': 0, 'start': 2.32, 'end': 3.84, 'text': ' I can speak a little.', 'tokens': [50480, 286, 393, 1710, 257, 707, 13, 50556], 'temperature': 0.0, 'avg_logprob': -0.4972143340529057, 'compression_ratio': 1.8270042194092826, 'no_speech_prob': 0.15091025829315186}, {'id': 2, 'seek': 0, 'start': 3.84, 'end': 5.76, 'text': ' How did you learn Japanese?', 'tokens': [50556, 1012, 630, 291, 1466, 5433, 30, 50652], 'temperature': 0.0, 'avg_logprob': -0.4972143340529057, 'compression_ratio': 1.8270042194092826, 'no_speech_prob': 0.15091025829315186}, {'id': 3, 'seek': 0, 'start': 5.76, 'end': 8.6, 'text': ' I went to a Japanese language school.', 'tokens': [50652, 286, 1437, 281, 257, 5433, 2856, 1395, 13, 50794], 'temperature': 0.0, 'avg_logprob': -0.4972143340529057, 'compression_ratio': 1.8270042194092826, 'no_speech_prob': 0.15091025829315186}, {'id': 4, 'seek': 0, 'start': 8.6, 'end': 15.8, 'text': \" What's the difference between someone who can speak Japanese and someone who can't?\", 'tokens': [50794, 708, 311, 264, 2649, 1296, 1580, 567, 393, 1710, 5433, 293, 1580, 567, 393, 380, 30, 51154], 'temperature': 0.0, 'avg_logprob': -0.4972143340529057, 'compression_ratio': 1.8270042194092826, 'no_speech_prob': 0.15091025829315186}, {'id': 5, 'seek': 0, 'start': 15.8, 'end': 18.48, 'text': ' You go to school and what do you do after that?', 'tokens': [51154, 509, 352, 281, 1395, 293, 437, 360, 291, 360, 934, 300, 30, 51288], 'temperature': 0.0, 'avg_logprob': -0.4972143340529057, 'compression_ratio': 1.8270042194092826, 'no_speech_prob': 0.15091025829315186}, {'id': 6, 'seek': 0, 'start': 18.48, 'end': 22.0, 'text': ' You go to school and spend 4 hours with someone who can speak English.', 'tokens': [51288, 509, 352, 281, 1395, 293, 3496, 1017, 2496, 365, 1580, 567, 393, 1710, 3669, 13, 51464], 'temperature': 0.0, 'avg_logprob': -0.4972143340529057, 'compression_ratio': 1.8270042194092826, 'no_speech_prob': 0.15091025829315186}, {'id': 7, 'seek': 0, 'start': 22.0, 'end': 25.0, 'text': \" Don't play with that person.\", 'tokens': [51464, 1468, 380, 862, 365, 300, 954, 13, 51614], 'temperature': 0.0, 'avg_logprob': -0.4972143340529057, 'compression_ratio': 1.8270042194092826, 'no_speech_prob': 0.15091025829315186}, {'id': 8, 'seek': 0, 'start': 25.0, 'end': 29.2, 'text': ' Sorry, I meant in English. Force yourself to hang out with Japanese people.', 'tokens': [51614, 4919, 11, 286, 4140, 294, 3669, 13, 10580, 1803, 281, 3967, 484, 365, 5433, 561, 13, 51824], 'temperature': 0.0, 'avg_logprob': -0.4972143340529057, 'compression_ratio': 1.8270042194092826, 'no_speech_prob': 0.15091025829315186}, {'id': 9, 'seek': 2920, 'start': 29.2, 'end': 33.4, 'text': ' You put yourself in the situation that you need to speak Japanese.', 'tokens': [50364, 509, 829, 1803, 294, 264, 2590, 300, 291, 643, 281, 1710, 5433, 13, 50574], 'temperature': 0.0, 'avg_logprob': -0.3409166634082794, 'compression_ratio': 0.9850746268656716, 'no_speech_prob': 0.18497484922409058}], 'language': 'ja'}\n",
            " > Text splitted to sentences.\n",
            "['Last question, do you speak Japanese?', 'I can speak a little.', 'How did you learn Japanese?', 'I went to a Japanese language school.', \"What's the difference between someone who can speak Japanese and someone who can't?\", 'You go to school and what do you do after that?', 'You go to school and spend 4 hours with someone who can speak English.', \"Don't play with that person.\", 'Sorry, I meant in English.', 'Force yourself to hang out with Japanese people.', 'You put yourself in the situation that you need to speak Japanese.']\n",
            " > Processing time: 20.79763698577881\n",
            " > Real-time factor: 0.5475336403428357\n"
          ]
        },
        {
          "name": "stderr",
          "output_type": "stream",
          "text": [
            "INFO:werkzeug:127.0.0.1 - - [04/Dec/2023 07:21:37] \"POST /translate_video HTTP/1.1\" 200 -\n",
            "INFO:werkzeug:127.0.0.1 - - [04/Dec/2023 07:21:37] \"\u001b[36mGET /static/assets/css/nucleo-icons.css HTTP/1.1\u001b[0m\" 304 -\n",
            "INFO:werkzeug:127.0.0.1 - - [04/Dec/2023 07:21:37] \"\u001b[36mGET /static/assets/css/nucleo-svg.css HTTP/1.1\u001b[0m\" 304 -\n",
            "INFO:werkzeug:127.0.0.1 - - [04/Dec/2023 07:21:37] \"\u001b[36mGET /static/assets/css/argon-design-system.css HTTP/1.1\u001b[0m\" 304 -\n",
            "INFO:werkzeug:127.0.0.1 - - [04/Dec/2023 07:21:37] \"\u001b[36mGET /static/assets/css/font-awesome.css HTTP/1.1\u001b[0m\" 304 -\n",
            "INFO:werkzeug:127.0.0.1 - - [04/Dec/2023 07:21:38] \"\u001b[35m\u001b[1mGET /static/origninalVideo.mkv HTTP/1.1\u001b[0m\" 206 -\n",
            "INFO:werkzeug:127.0.0.1 - - [04/Dec/2023 07:21:38] \"\u001b[36mGET /static/assets/img/brand/blue.png HTTP/1.1\u001b[0m\" 304 -\n",
            "INFO:werkzeug:127.0.0.1 - - [04/Dec/2023 07:21:38] \"\u001b[35m\u001b[1mGET /static/translatedVideoFinal.mkv HTTP/1.1\u001b[0m\" 206 -\n",
            "INFO:werkzeug:127.0.0.1 - - [04/Dec/2023 07:21:55] \"\u001b[35m\u001b[1mGET /static/origninalVideo.mkv HTTP/1.1\u001b[0m\" 206 -\n",
            "INFO:werkzeug:127.0.0.1 - - [04/Dec/2023 07:21:55] \"\u001b[35m\u001b[1mGET /static/origninalVideo.mkv HTTP/1.1\u001b[0m\" 206 -\n",
            "INFO:werkzeug:127.0.0.1 - - [04/Dec/2023 07:21:56] \"\u001b[35m\u001b[1mGET /static/translatedVideoFinal.mkv HTTP/1.1\u001b[0m\" 206 -\n",
            "INFO:werkzeug:127.0.0.1 - - [04/Dec/2023 07:21:56] \"\u001b[35m\u001b[1mGET /static/translatedVideoFinal.mkv HTTP/1.1\u001b[0m\" 206 -\n",
            "INFO:werkzeug:127.0.0.1 - - [04/Dec/2023 07:21:56] \"\u001b[35m\u001b[1mGET /static/translatedVideoFinal.mkv HTTP/1.1\u001b[0m\" 206 -\n",
            "INFO:werkzeug:127.0.0.1 - - [04/Dec/2023 07:21:57] \"\u001b[35m\u001b[1mGET /static/translatedVideoFinal.mkv HTTP/1.1\u001b[0m\" 206 -\n",
            "INFO:werkzeug:127.0.0.1 - - [04/Dec/2023 07:21:57] \"\u001b[35m\u001b[1mGET /static/translatedVideoFinal.mkv HTTP/1.1\u001b[0m\" 206 -\n",
            "INFO:werkzeug:127.0.0.1 - - [04/Dec/2023 07:22:01] \"GET /static/assets/img/apple-icon.png HTTP/1.1\" 200 -\n",
            "INFO:werkzeug:127.0.0.1 - - [04/Dec/2023 07:22:01] \"\u001b[35m\u001b[1mGET /static/origninalVideo.mkv HTTP/1.1\u001b[0m\" 206 -\n",
            "INFO:werkzeug:127.0.0.1 - - [04/Dec/2023 07:22:08] \"\u001b[35m\u001b[1mGET /static/translatedVideoFinal.mkv HTTP/1.1\u001b[0m\" 206 -\n",
            "INFO:werkzeug:127.0.0.1 - - [04/Dec/2023 07:22:09] \"\u001b[35m\u001b[1mGET /static/translatedVideoFinal.mkv HTTP/1.1\u001b[0m\" 206 -\n"
          ]
        }
      ],
      "source": [
        "#https://www.youtube.com/shorts/6f-_j_BSUwY\n",
        "\n",
        "from flask_ngrok import run_with_ngrok\n",
        "from flask import Flask, redirect, url_for, render_template, request, Response\n",
        "from google.colab import files\n",
        "\n",
        "import os\n",
        "import shutil\n",
        "\n",
        "app = Flask(__name__)\n",
        "run_with_ngrok(app)\n",
        "\n",
        "if not os.path.isfile('/content/static/styles.css'):\n",
        "  %cd /content/static/\n",
        "  uploaded = files.upload()\n",
        "if not os.path.isfile('/content/templates/index.html'):\n",
        "  %cd /content/templates/\n",
        "  uploaded = files.upload()\n",
        "%cd /content/\n",
        "\n",
        "OUTPUT_VIDEO = \"/content/DownloadedVideos/downloadedVideo.mkv\"\n",
        "OUTPUT_AUDIO = \"/content/OutcomeAudios/extractedAudio.wav\"\n",
        "AUDIO_FOLDER = \"/content/OutcomeAudios/\"\n",
        "VIDEO_FOLDER = \"/content/DownloadedVideos/\"\n",
        "\n",
        "\n",
        "@app.route(\"/\")\n",
        "def home():\n",
        "    return render_template('index.html')\n",
        "\n",
        "@app.route(\"/about\")\n",
        "def about():\n",
        "    return render_template('about.html')\n",
        "\n",
        "@app.route(\"/how-it-works\")\n",
        "def howItWorks():\n",
        "    return render_template('howItWorks.html')\n",
        "\n",
        "@app.route(\"/translate\")\n",
        "def translate():\n",
        "    return render_template('code.html', showVideos = False)\n",
        "\n",
        "@app.route(\"/admin\")\n",
        "def admin():\n",
        "    return redirect(url_for(\"home\"))\n",
        "\n",
        "@app.route(\"/translate_video\", methods=[\"GET\", \"POST\"])\n",
        "def translate_video():\n",
        "    isURL = False\n",
        "\n",
        "    if os.path.isfile(OUTPUT_VIDEO):\n",
        "        os.remove(OUTPUT_VIDEO)\n",
        "    if os.path.isfile(OUTPUT_AUDIO):\n",
        "        os.remove(OUTPUT_AUDIO)\n",
        "    if os.path.isfile(\"/content/OutcomeAudios/translatedAudio.wav\"):\n",
        "        os.remove(\"/content/OutcomeAudios/translatedAudio.wav\")\n",
        "    if os.path.isfile('/content/static/translatedVideoFinal.mkv'):\n",
        "        os.remove(\"/content/static/translatedVideoFinal.mkv\")\n",
        "\n",
        "    video_url = request.form.get('videoUrl')\n",
        "    video_file = request.files.get('videoFile')\n",
        "    finalAudioPath = \"\"\n",
        "    if video_url:\n",
        "        isURL = True\n",
        "        downloadVideoYT(video_url)\n",
        "        extractAudio()\n",
        "    elif video_file:\n",
        "        filename = video_file.filename\n",
        "        file_path = OUTPUT_VIDEO\n",
        "        video_file.save(file_path)\n",
        "        extractAudio()\n",
        "\n",
        "    translatedText = transcription()\n",
        "    audioSegment = convert(translatedText['text'])\n",
        "    #finalAudioPath = createFinalAudio(audioSegment, translatedText['segments'])\n",
        "    shutil.copyfile(\"/content/DownloadedVideos/downloadedVideo.mkv\", '/content/static/origninalVideo.mkv')\n",
        "    addAudioBackToVideo(audio_path= audioSegment,\n",
        "                     video_path=\"/content/DownloadedVideos/downloadedVideo.mkv\",\n",
        "                     output_video_path=\"/content/static/translatedVideoFinal.mkv\")\n",
        "\n",
        "    return render_template('code.html', showVideos=True)\n",
        "\n",
        "\n",
        "if __name__ == \"__main__\":\n",
        "    app.run()"
      ]
    },
    {
      "cell_type": "code",
      "execution_count": null,
      "metadata": {
        "id": "q_1NKMw1tDnj"
      },
      "outputs": [],
      "source": [
        "#audioSegment = convert(translatedText)\n",
        "#finalAudioPath = createFinalAudio(audioSegment)"
      ]
    }
  ],
  "metadata": {
    "accelerator": "GPU",
    "colab": {
      "gpuType": "T4",
      "provenance": []
    },
    "kernelspec": {
      "display_name": "Python 3",
      "name": "python3"
    },
    "language_info": {
      "name": "python"
    }
  },
  "nbformat": 4,
  "nbformat_minor": 0
}
